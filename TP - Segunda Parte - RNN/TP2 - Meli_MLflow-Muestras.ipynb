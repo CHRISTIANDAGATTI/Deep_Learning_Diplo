{
 "cells": [
  {
   "cell_type": "markdown",
   "metadata": {
    "colab_type": "text",
    "id": "view-in-github"
   },
   "source": [
    "<a href=\"https://colab.research.google.com/github/DiploDatos/AprendizajeProfundo/blob/master/4_mlflow_experiments.ipynb\" target=\"_parent\"><img src=\"https://colab.research.google.com/assets/colab-badge.svg\" alt=\"Open In Colab\"/></a>"
   ]
  },
  {
   "cell_type": "markdown",
   "metadata": {
    "id": "yE-FKAMPlWFr"
   },
   "source": [
    "# Deep Learning Práctico 2\n",
    "## Implementación de una red neuronal RNN\n",
    "\n",
    "### Experimentos sobre muestras"
   ]
  },
  {
   "cell_type": "markdown",
   "metadata": {
    "id": "oDZ705FslWFu"
   },
   "source": [
    "## Registro de experimentos con MLflow\n",
    "\n",
    "A la hora de trabajar con problemas de aprendizaje supervisado en general, y de aprendizaje profundo en particular, es necesario llevar un buen registro de los experimentos realizados. En particular, cuando se hace uso de algún tipo de optimización de hiperparámetros (ya sea búsqueda exhaustiva, búsqueda aleatoria o algo más complejo como optimización bayesiana), es crucial tener registro de que se fue haciendo para tomar las decisiones.\n",
    "\n",
    "[MLflow](https://mlflow.org/) es una plataforma de código abierto que facilita mucho lleva y cuenta de los experimentos que se están realizando. Se pueden ejecutar experimentos y guardar hiperparámetros y métricas de los mismos.\n",
    "\n",
    "A continuación vamos a ver un ejemplo muy sencillo de como realizar un experimento utilizando MLflow y el conjunto de datos de IMDB."
   ]
  },
  {
   "cell_type": "markdown",
   "metadata": {},
   "source": [
    "Gente! Dato importante que faltó en el repo (en breve lo voy a subir)\n",
    "Para los que trabajen con word embeddings, fijense que los de Glove no les van a servir, porque el MeliChallenge está en español y los embeddings en Ingles. Para esto hay dos opciones igual de válidas:\n",
    "\n",
    "Descargar embeddings en español\n",
    "Entrenar sus propios embeddings\n",
    "\n",
    "Para la opción 1:\n",
    "Descarguen el los txt de los SBW (los txt).\n",
    "import bz2\n",
    "with bz2.open(pretrained_embeddings_path, \"rt\") as fh: en su modelo, donde está lo de abrir el GZIP\n",
    "`model = MyClassifier(embs_path=\"./data/SBW-vectors-300-min5.txt.bz2\", emb_size=300)` cuando instancien los modelos. Los embeddings tienen 300 dims.\n",
    "\n",
    "Para la opción 2:\n",
    "self.embedding = nn.Embedding(vocab_size, emb_size, padding_idx)\n",
    "Con vocab_size el tamaño del vocabulario del corpus del MeliChallenge, emb_size un tamaño de embedding (pueden usar 50, directamente si no quieren ajustar esto) y padding_idx=0."
   ]
  },
  {
   "cell_type": "code",
   "execution_count": 1,
   "metadata": {},
   "outputs": [],
   "source": [
    "#CORRER UNA VEZ\n",
    "# !mkdir ./data\n",
    "# !curl -L https://cs.famaf.unc.edu.ar/\\~ccardellino/resources/diplodatos/glove.6B.50d.txt.gz -o ./data/glove.6B.50d.txt.gz\n",
    "# !curl -L https://cs.famaf.unc.edu.ar/\\~ccardellino/resources/diplodatos/meli-challenge-2019.tar.bz2 -o ./data/meli-challenge-2019.tar.bz2\n",
    "# !tar jxvf ./data/meli-challenge-2019.tar.bz2 -C ./data/\n",
    "# !pip install mlflow\n",
    "#!curl -L https://cs.famaf.unc.edu.ar/~ccardellino/SBWCE/SBW-vectors-300-min5.txt.bz2 -o ./SBW-vectors-300-min5.txt.bz2"
   ]
  },
  {
   "cell_type": "markdown",
   "metadata": {
    "id": "lB_580RhgWjP"
   },
   "source": [
    "### Librerías"
   ]
  },
  {
   "cell_type": "code",
   "execution_count": 2,
   "metadata": {
    "id": "PhX0iO4ilWFw"
   },
   "outputs": [],
   "source": [
    "import csv\n",
    "import gzip\n",
    "import bz2\n",
    "import mlflow\n",
    "import numpy as np\n",
    "import pandas as pd\n",
    "import tempfile\n",
    "import torch\n",
    "import torch.optim as optim\n",
    "import torch.nn as nn\n",
    "import torch.nn.functional as F\n",
    "\n",
    "from gensim import corpora\n",
    "from gensim.models import KeyedVectors\n",
    "from gensim.parsing import preprocessing\n",
    "from gensim.scripts.glove2word2vec import glove2word2vec\n",
    "from sklearn.model_selection import train_test_split\n",
    "from sklearn.metrics import average_precision_score\n",
    "from sklearn.metrics import balanced_accuracy_score\n",
    "from sklearn.model_selection import train_test_split\n",
    "from torch.utils.data import Dataset, DataLoader, IterableDataset\n",
    "from tqdm.notebook import tqdm, trange\n",
    "\n",
    "import json\n",
    "import matplotlib.pyplot as plt\n",
    "import seaborn as sns\n",
    "import functools\n",
    "tqdm.pandas()\n"
   ]
  },
  {
   "cell_type": "code",
   "execution_count": 3,
   "metadata": {},
   "outputs": [
    {
     "data": {
      "text/plain": [
       "'4.2.0'"
      ]
     },
     "execution_count": 3,
     "metadata": {},
     "output_type": "execute_result"
    }
   ],
   "source": [
    "# Ensure version 4.X\n",
    "import gensim\n",
    "gensim.__version__"
   ]
  },
  {
   "cell_type": "markdown",
   "metadata": {
    "id": "8sUqaqdElWFx"
   },
   "source": [
    "## Dataset\n",
    "\n",
    "Nos basaremos en el dataset que creamos para el [notebook 2](https://github.com/DiploDatos/AprendizajeProfundo/blob/master/3_datasets.ipynb), con la diferencia de que pasaremos el dataframe de manera directa (esto es para poder hacer split en train/test).\n",
    "\n",
    "Recordemos de la [notebook 2](https://github.com/DiploDatos/AprendizajeProfundo/blob/master/3_datasets.ipynb) que la clase abstracta `torch.utils.data.Dataset `es la [clase base](https://pytorch.org/tutorials/beginner/basics/data_tutorial.html?highlight=dataset) para construir un dataset de `PyTorch`. Cualquier dataset personalizado debe heredar de dicha clase e implementar los siguientes métodos:\n",
    "\n",
    "`__len__`: Para que el comando `len(dataset)` devuelva el tamaño del conjunto de datos.\n",
    "\n",
    "`__getitem__`: Para soportar indexado de manera que `dataset[i]` devuelva el elemento `i`."
   ]
  },
  {
   "cell_type": "code",
   "execution_count": 4,
   "metadata": {},
   "outputs": [],
   "source": [
    "class MeliChallenge(Dataset):\n",
    "    def __init__(self, dataset, transform=None):\n",
    "        self.dataset = dataset\n",
    "        self.transform = transform\n",
    "    \n",
    "    def __len__(self):\n",
    "        return self.dataset.shape[0]\n",
    "\n",
    "    def __getitem__(self, item):\n",
    "        if torch.is_tensor(item):\n",
    "            item = item.to_list()\n",
    "        \n",
    "        item = {\n",
    "            \"data\": self.dataset.loc[item, \"title\"],\n",
    "            \"target\": self.dataset.loc[item, \"category\"]\n",
    "        }\n",
    "        \n",
    "        if self.transform:\n",
    "            item = self.transform(item)\n",
    "        \n",
    "        return item"
   ]
  },
  {
   "cell_type": "markdown",
   "metadata": {
    "id": "mYyDGXQYlWF1"
   },
   "source": [
    "## Lectura de datos"
   ]
  },
  {
   "cell_type": "code",
   "execution_count": 5,
   "metadata": {},
   "outputs": [],
   "source": [
    "columns_interesting = ['title','category']"
   ]
  },
  {
   "cell_type": "markdown",
   "metadata": {},
   "source": [
    "## Train"
   ]
  },
  {
   "cell_type": "code",
   "execution_count": 6,
   "metadata": {
    "scrolled": true
   },
   "outputs": [
    {
     "data": {
      "text/html": [
       "<div>\n",
       "<style scoped>\n",
       "    .dataframe tbody tr th:only-of-type {\n",
       "        vertical-align: middle;\n",
       "    }\n",
       "\n",
       "    .dataframe tbody tr th {\n",
       "        vertical-align: top;\n",
       "    }\n",
       "\n",
       "    .dataframe thead th {\n",
       "        text-align: right;\n",
       "    }\n",
       "</style>\n",
       "<table border=\"1\" class=\"dataframe\">\n",
       "  <thead>\n",
       "    <tr style=\"text-align: right;\">\n",
       "      <th></th>\n",
       "      <th>title</th>\n",
       "      <th>category</th>\n",
       "    </tr>\n",
       "  </thead>\n",
       "  <tbody>\n",
       "    <tr>\n",
       "      <th>0</th>\n",
       "      <td>Casita Muñecas Barbies Pintadas</td>\n",
       "      <td>DOLLHOUSES</td>\n",
       "    </tr>\n",
       "    <tr>\n",
       "      <th>1</th>\n",
       "      <td>Neceser Cromado Holográfico</td>\n",
       "      <td>TOILETRY_BAGS</td>\n",
       "    </tr>\n",
       "    <tr>\n",
       "      <th>2</th>\n",
       "      <td>Funda Asiento A Medida D20 Chevrolet</td>\n",
       "      <td>CAR_SEAT_COVERS</td>\n",
       "    </tr>\n",
       "    <tr>\n",
       "      <th>3</th>\n",
       "      <td>Embrague Ford Focus One 1.8 8v Td (90cv) Desde...</td>\n",
       "      <td>AUTOMOTIVE_CLUTCH_KITS</td>\n",
       "    </tr>\n",
       "    <tr>\n",
       "      <th>4</th>\n",
       "      <td>Bateria Panasonic Dmwbcf10 Lumix Dmc-fx60n Dmc...</td>\n",
       "      <td>CAMERA_BATTERIES</td>\n",
       "    </tr>\n",
       "  </tbody>\n",
       "</table>\n",
       "</div>"
      ],
      "text/plain": [
       "                                               title                category\n",
       "0                    Casita Muñecas Barbies Pintadas              DOLLHOUSES\n",
       "1                       Neceser Cromado Holográfico            TOILETRY_BAGS\n",
       "2               Funda Asiento A Medida D20 Chevrolet         CAR_SEAT_COVERS\n",
       "3  Embrague Ford Focus One 1.8 8v Td (90cv) Desde...  AUTOMOTIVE_CLUTCH_KITS\n",
       "4  Bateria Panasonic Dmwbcf10 Lumix Dmc-fx60n Dmc...        CAMERA_BATTERIES"
      ]
     },
     "execution_count": 6,
     "metadata": {},
     "output_type": "execute_result"
    }
   ],
   "source": [
    "train_df = pd.concat([x for x in pd.read_json('./data/meli-challenge-2019/spanish.train.jsonl.gz', lines=True, chunksize=100000)], ignore_index=True)\n",
    "train_df = train_df[columns_interesting]\n",
    "train_df.head()"
   ]
  },
  {
   "cell_type": "code",
   "execution_count": 7,
   "metadata": {},
   "outputs": [
    {
     "data": {
      "text/plain": [
       "4895280"
      ]
     },
     "execution_count": 7,
     "metadata": {},
     "output_type": "execute_result"
    }
   ],
   "source": [
    "len(train_df)"
   ]
  },
  {
   "cell_type": "markdown",
   "metadata": {},
   "source": [
    "## Validation"
   ]
  },
  {
   "cell_type": "code",
   "execution_count": 8,
   "metadata": {},
   "outputs": [
    {
     "data": {
      "text/html": [
       "<div>\n",
       "<style scoped>\n",
       "    .dataframe tbody tr th:only-of-type {\n",
       "        vertical-align: middle;\n",
       "    }\n",
       "\n",
       "    .dataframe tbody tr th {\n",
       "        vertical-align: top;\n",
       "    }\n",
       "\n",
       "    .dataframe thead th {\n",
       "        text-align: right;\n",
       "    }\n",
       "</style>\n",
       "<table border=\"1\" class=\"dataframe\">\n",
       "  <thead>\n",
       "    <tr style=\"text-align: right;\">\n",
       "      <th></th>\n",
       "      <th>title</th>\n",
       "      <th>category</th>\n",
       "    </tr>\n",
       "  </thead>\n",
       "  <tbody>\n",
       "    <tr>\n",
       "      <th>0</th>\n",
       "      <td>Metal Biela Dw10 Hdi 2.0</td>\n",
       "      <td>ENGINE_BEARINGS</td>\n",
       "    </tr>\n",
       "    <tr>\n",
       "      <th>1</th>\n",
       "      <td>Repuestos Martillo Rotoprcutor Bosch Gshsce Po...</td>\n",
       "      <td>ELECTRIC_DEMOLITION_HAMMERS</td>\n",
       "    </tr>\n",
       "    <tr>\n",
       "      <th>2</th>\n",
       "      <td>Pesca Caña Pejerrey Colony Brava 3m Fibra De V...</td>\n",
       "      <td>FISHING_RODS</td>\n",
       "    </tr>\n",
       "    <tr>\n",
       "      <th>3</th>\n",
       "      <td>Porcelanato Abitare Be 20x120 Cm. Ceramica Por...</td>\n",
       "      <td>PORCELAIN_TILES</td>\n",
       "    </tr>\n",
       "    <tr>\n",
       "      <th>4</th>\n",
       "      <td>Reconstruction Semi Di Lino Alfaparf Shampoo 1...</td>\n",
       "      <td>HAIR_SHAMPOOS_AND_CONDITIONERS</td>\n",
       "    </tr>\n",
       "  </tbody>\n",
       "</table>\n",
       "</div>"
      ],
      "text/plain": [
       "                                               title  \\\n",
       "0                           Metal Biela Dw10 Hdi 2.0   \n",
       "1  Repuestos Martillo Rotoprcutor Bosch Gshsce Po...   \n",
       "2  Pesca Caña Pejerrey Colony Brava 3m Fibra De V...   \n",
       "3  Porcelanato Abitare Be 20x120 Cm. Ceramica Por...   \n",
       "4  Reconstruction Semi Di Lino Alfaparf Shampoo 1...   \n",
       "\n",
       "                         category  \n",
       "0                 ENGINE_BEARINGS  \n",
       "1     ELECTRIC_DEMOLITION_HAMMERS  \n",
       "2                    FISHING_RODS  \n",
       "3                 PORCELAIN_TILES  \n",
       "4  HAIR_SHAMPOOS_AND_CONDITIONERS  "
      ]
     },
     "execution_count": 8,
     "metadata": {},
     "output_type": "execute_result"
    }
   ],
   "source": [
    "validation_df = pd.concat([x for x in pd.read_json('./data/meli-challenge-2019/spanish.validation.jsonl.gz', lines=True, chunksize=100000)], ignore_index=True)\n",
    "validation_df = validation_df[columns_interesting]\n",
    "validation_df.head()"
   ]
  },
  {
   "cell_type": "code",
   "execution_count": 9,
   "metadata": {},
   "outputs": [
    {
     "data": {
      "text/plain": [
       "1223820"
      ]
     },
     "execution_count": 9,
     "metadata": {},
     "output_type": "execute_result"
    }
   ],
   "source": [
    "len(validation_df)"
   ]
  },
  {
   "cell_type": "markdown",
   "metadata": {},
   "source": [
    "## Test"
   ]
  },
  {
   "cell_type": "code",
   "execution_count": 10,
   "metadata": {},
   "outputs": [
    {
     "data": {
      "text/html": [
       "<div>\n",
       "<style scoped>\n",
       "    .dataframe tbody tr th:only-of-type {\n",
       "        vertical-align: middle;\n",
       "    }\n",
       "\n",
       "    .dataframe tbody tr th {\n",
       "        vertical-align: top;\n",
       "    }\n",
       "\n",
       "    .dataframe thead th {\n",
       "        text-align: right;\n",
       "    }\n",
       "</style>\n",
       "<table border=\"1\" class=\"dataframe\">\n",
       "  <thead>\n",
       "    <tr style=\"text-align: right;\">\n",
       "      <th></th>\n",
       "      <th>title</th>\n",
       "      <th>category</th>\n",
       "    </tr>\n",
       "  </thead>\n",
       "  <tbody>\n",
       "    <tr>\n",
       "      <th>0</th>\n",
       "      <td>Mochilas Maternales Bolsos Bebe Simil Cuero Ma...</td>\n",
       "      <td>DIAPER_BAGS</td>\n",
       "    </tr>\n",
       "    <tr>\n",
       "      <th>1</th>\n",
       "      <td>Bolso Maternal/bebe Incluye Cambiador + Correa...</td>\n",
       "      <td>DIAPER_BAGS</td>\n",
       "    </tr>\n",
       "    <tr>\n",
       "      <th>2</th>\n",
       "      <td>Mochila Maternal Land  + Gancho Envio Gratis-cc</td>\n",
       "      <td>DIAPER_BAGS</td>\n",
       "    </tr>\n",
       "    <tr>\n",
       "      <th>3</th>\n",
       "      <td>Bolso Maternal Moderno Con Cambiador Y Correa ...</td>\n",
       "      <td>DIAPER_BAGS</td>\n",
       "    </tr>\n",
       "    <tr>\n",
       "      <th>4</th>\n",
       "      <td>Bolso Maternal Moderno Con Cambiador Y Correa ...</td>\n",
       "      <td>DIAPER_BAGS</td>\n",
       "    </tr>\n",
       "  </tbody>\n",
       "</table>\n",
       "</div>"
      ],
      "text/plain": [
       "                                               title     category\n",
       "0  Mochilas Maternales Bolsos Bebe Simil Cuero Ma...  DIAPER_BAGS\n",
       "1  Bolso Maternal/bebe Incluye Cambiador + Correa...  DIAPER_BAGS\n",
       "2    Mochila Maternal Land  + Gancho Envio Gratis-cc  DIAPER_BAGS\n",
       "3  Bolso Maternal Moderno Con Cambiador Y Correa ...  DIAPER_BAGS\n",
       "4  Bolso Maternal Moderno Con Cambiador Y Correa ...  DIAPER_BAGS"
      ]
     },
     "execution_count": 10,
     "metadata": {},
     "output_type": "execute_result"
    }
   ],
   "source": [
    "test_df = pd.concat([x for x in pd.read_json('./data/meli-challenge-2019/spanish.test.jsonl.gz', lines=True, chunksize=100000)], ignore_index=True)\n",
    "test_df = test_df[columns_interesting]\n",
    "test_df.head()"
   ]
  },
  {
   "cell_type": "code",
   "execution_count": 11,
   "metadata": {},
   "outputs": [
    {
     "data": {
      "text/plain": [
       "63680"
      ]
     },
     "execution_count": 11,
     "metadata": {},
     "output_type": "execute_result"
    }
   ],
   "source": [
    "len(test_df)"
   ]
  },
  {
   "cell_type": "markdown",
   "metadata": {},
   "source": [
    "## Exploración de Dataset"
   ]
  },
  {
   "cell_type": "code",
   "execution_count": 12,
   "metadata": {},
   "outputs": [
    {
     "data": {
      "text/plain": [
       "0                DOLLHOUSES\n",
       "1             TOILETRY_BAGS\n",
       "2           CAR_SEAT_COVERS\n",
       "3    AUTOMOTIVE_CLUTCH_KITS\n",
       "4          CAMERA_BATTERIES\n",
       "Name: category, dtype: object"
      ]
     },
     "execution_count": 12,
     "metadata": {},
     "output_type": "execute_result"
    }
   ],
   "source": [
    "cat=train_df['category'].head(5)\n",
    "cat"
   ]
  },
  {
   "cell_type": "code",
   "execution_count": 13,
   "metadata": {},
   "outputs": [],
   "source": [
    "cat_top_train = train_df['category'].value_counts()[:15]\n",
    "cat_top_val = validation_df['category'].value_counts()[:15]\n",
    "cat_top_test = test_df['category'].value_counts()[:15]"
   ]
  },
  {
   "cell_type": "code",
   "execution_count": 14,
   "metadata": {},
   "outputs": [
    {
     "data": {
      "text/plain": [
       "Text(0.5, 1.0, 'Test set')"
      ]
     },
     "execution_count": 14,
     "metadata": {},
     "output_type": "execute_result"
    },
    {
     "data": {
      "image/png": "[encoded data removed]",
      "text/plain": [
       "<Figure size 1200x600 with 3 Axes>"
      ]
     },
     "metadata": {},
     "output_type": "display_data"
    }
   ],
   "source": [
    "fig, ax = plt.subplots(1,3, figsize=(12,6))\n",
    "\n",
    "sns.barplot(y=cat_top_train.index, x=cat_top_train.values, ax=ax[0], palette=\"Blues\")\n",
    "ax[0].set_title('Train set')\n",
    "\n",
    "sns.barplot(y=cat_top_val.index, x=cat_top_val.values, ax=ax[1], palette=\"Blues\")\n",
    "ax[1].set_title('Validation set')\n",
    "\n",
    "sns.barplot(y=cat_top_test.index, x=cat_top_test.values, ax=ax[2], palette=\"Blues\")\n",
    "ax[2].set_title('Test set')"
   ]
  },
  {
   "cell_type": "code",
   "execution_count": 15,
   "metadata": {},
   "outputs": [],
   "source": [
    "# Generación de muestras\n",
    "\n",
    "train_dataset = train_df.sample(frac=0.1, random_state=1, ignore_index=True)\n",
    "validation_dataset = validation_df.sample(frac=0.1, random_state=1, ignore_index=True)\n",
    "test_dataset = test_df.copy()"
   ]
  },
  {
   "cell_type": "code",
   "execution_count": 16,
   "metadata": {},
   "outputs": [
    {
     "name": "stdout",
     "output_type": "stream",
     "text": [
      "Train: 489528 - Validation: 122382 - Test: 63680\n"
     ]
    }
   ],
   "source": [
    "train, validation, test = len(train_dataset), len(validation_dataset), len(test_df)\n",
    "print(f'Train: {train} - Validation: {validation} - Test: {test}')"
   ]
  },
  {
   "cell_type": "code",
   "execution_count": 17,
   "metadata": {},
   "outputs": [
    {
     "name": "stdout",
     "output_type": "stream",
     "text": [
      "Train unique categories: 632\n",
      "Validation unique categories: 632\n",
      "Test unique categories: 632\n"
     ]
    }
   ],
   "source": [
    "# Contamos las categorias en el Dataset completo\n",
    "print(f'Train unique categories: {train_df.category.nunique()}\\n\\\n",
    "Validation unique categories: {validation_df.category.nunique()}\\n\\\n",
    "Test unique categories: {test_df.category.nunique()}')"
   ]
  },
  {
   "cell_type": "code",
   "execution_count": 18,
   "metadata": {},
   "outputs": [
    {
     "name": "stdout",
     "output_type": "stream",
     "text": [
      "Train unique categories: 632\n",
      "Validation unique categories: 632\n",
      "Test unique categories: 632\n"
     ]
    }
   ],
   "source": [
    "# Contamos las categorias en despues de tomar las muestras en train y validation\n",
    "print(f'Train unique categories: {train_dataset.category.nunique()}\\n\\\n",
    "Validation unique categories: {validation_dataset.category.nunique()}\\n\\\n",
    "Test unique categories: {test_dataset.category.nunique()}')"
   ]
  },
  {
   "cell_type": "markdown",
   "metadata": {},
   "source": [
    "## Preprocess"
   ]
  },
  {
   "cell_type": "markdown",
   "metadata": {},
   "source": [
    "\n",
    "En este caso vamos a utilizar un sólo módulo para transformar los datos de IMDB. Este se encargará de preprocesar el texto (i.e. normalizarlo) y transformará las palabras en índices de un diccionario para luego poder pasar una secuencia de palabras para buscar en la matriz de embeddings y así permitir mayor manipulación de los embeddings (en lugar de utilizar embeddings fijos).\n",
    "\n",
    "Vamos a estar trabajando con la librería [gensim](https://pypi.org/project/gensim/) previamente importada para el procesamiento del lenguaje natural (pueden ver su código open source en este [link](https://github.com/RaRe-Technologies/gensim) )."
   ]
  },
  {
   "cell_type": "code",
   "execution_count": 19,
   "metadata": {},
   "outputs": [],
   "source": [
    "class RawDataProcessor:\n",
    "    def __init__(self, \n",
    "                 dataset, \n",
    "                 ignore_header=True, \n",
    "                 filters=None, \n",
    "                 vocab_size=50000):\n",
    "        if filters:\n",
    "            self.filters = filters\n",
    "        else:\n",
    "            self.filters = [\n",
    "                lambda s: s.lower(),\n",
    "                preprocessing.strip_tags,\n",
    "                preprocessing.strip_punctuation,\n",
    "                preprocessing.strip_multiple_whitespaces,\n",
    "                preprocessing.strip_numeric,\n",
    "                preprocessing.remove_stopwords,\n",
    "                preprocessing.strip_short,\n",
    "            ]\n",
    "        \n",
    "        # Create dictionary based on all the reviews (with corresponding preprocessing)\n",
    "        # https://radimrehurek.com/gensim/corpora/dictionary.html\n",
    "        self.dictionary = corpora.Dictionary(\n",
    "            dataset[\"title\"].map(self._preprocess_string).tolist()\n",
    "        )\n",
    "        # Filter the dictionary with extremos words\n",
    "        # https://tedboy.github.io/nlps/generated/generated/gensim.corpora.Dictionary.filter_extremes.html?highlight=filter_extrem\n",
    "        self.dictionary.filter_extremes(no_below=2, no_above=1, keep_n=vocab_size)\n",
    "        \n",
    "        # Make the indices continuous after some words have been removed\n",
    "        # https://tedboy.github.io/nlps/generated/generated/gensim.corpora.Dictionary.compactify.html\n",
    "        self.dictionary.compactify()\n",
    "        \n",
    "        # Add a couple of special tokens\n",
    "        self.dictionary.patch_with_special_tokens({\n",
    "            \"[PAD]\": 0,\n",
    "            \"[UNK]\": 1\n",
    "        })\n",
    "        self.idx_to_target = sorted(dataset[\"category\"].unique())\n",
    "        self.target_to_idx = {t: i for i, t in enumerate(self.idx_to_target)}\n",
    "\n",
    "\n",
    "    def _preprocess_string(self, string):\n",
    "        # https://radimrehurek.com/gensim/parsing/preprocessing.html#gensim.parsing.preprocessing.preprocess_string:~:text=gensim.parsing.preprocessing.preprocess_string\n",
    "        return preprocessing.preprocess_string(string, filters=self.filters)\n",
    "\n",
    "    def _sentence_to_indices(self, sentence):\n",
    "      # https://radimrehurek.com/gensim/corpora/dictionary.html#:~:text=doc2idx(document,via%20unknown_word_index.\n",
    "        return self.dictionary.doc2idx(sentence, unknown_word_index=1)\n",
    "    \n",
    "    def encode_data(self, data):\n",
    "        return self._sentence_to_indices(self._preprocess_string(data))\n",
    "    \n",
    "    def encode_target(self, target):\n",
    "        return self.target_to_idx[target]\n",
    "    \n",
    "    def __call__(self, item):\n",
    "        if isinstance(item[\"data\"], str):\n",
    "            data = self.encode_data(item[\"data\"])\n",
    "        else:\n",
    "            data = [self.encode_data(d) for d in item[\"data\"]]\n",
    "        \n",
    "        if isinstance(item[\"target\"], str):\n",
    "            target = self.encode_target(item[\"target\"])\n",
    "        else:\n",
    "            target = [self.encode_target(t) for t in item[\"target\"]]\n",
    "        \n",
    "        return {\n",
    "            \"data\": data,\n",
    "            \"target\": target\n",
    "        }"
   ]
  },
  {
   "cell_type": "code",
   "execution_count": 20,
   "metadata": {},
   "outputs": [
    {
     "name": "stderr",
     "output_type": "stream",
     "text": [
      "/tmp/ipykernel_4161254/242076517.py:2: FutureWarning: The frame.append method is deprecated and will be removed from pandas in a future version. Use pandas.concat instead.\n",
      "  full_df_muestra=full_df_muestra.append(validation_dataset, ignore_index=True)\n",
      "/tmp/ipykernel_4161254/242076517.py:3: FutureWarning: The frame.append method is deprecated and will be removed from pandas in a future version. Use pandas.concat instead.\n",
      "  full_df_muestra=full_df_muestra.append(test_dataset, ignore_index=True)\n"
     ]
    },
    {
     "data": {
      "text/plain": [
       "(675590, 2)"
      ]
     },
     "execution_count": 20,
     "metadata": {},
     "output_type": "execute_result"
    }
   ],
   "source": [
    "full_df_muestra=train_dataset.copy()\n",
    "full_df_muestra=full_df_muestra.append(validation_dataset, ignore_index=True)\n",
    "full_df_muestra=full_df_muestra.append(test_dataset, ignore_index=True)\n",
    "full_df_muestra.shape\n"
   ]
  },
  {
   "cell_type": "code",
   "execution_count": 21,
   "metadata": {},
   "outputs": [],
   "source": [
    "\n",
    "preprocess_full = RawDataProcessor(full_df_muestra)\n"
   ]
  },
  {
   "cell_type": "code",
   "execution_count": 22,
   "metadata": {},
   "outputs": [
    {
     "name": "stdout",
     "output_type": "stream",
     "text": [
      "Tamaño del diccionario: 50002\n"
     ]
    }
   ],
   "source": [
    "print(f'Tamaño del diccionario: {len(preprocess_full.dictionary)}')"
   ]
  },
  {
   "cell_type": "code",
   "execution_count": 23,
   "metadata": {},
   "outputs": [],
   "source": [
    "train_dataset = MeliChallenge(train_dataset, transform=preprocess_full)\n",
    "validation_dataset = MeliChallenge(validation_dataset, transform=preprocess_full)\n",
    "test_dataset = MeliChallenge(test_dataset, transform=preprocess_full)"
   ]
  },
  {
   "cell_type": "markdown",
   "metadata": {},
   "source": [
    "# Collation Function - Data Loader"
   ]
  },
  {
   "cell_type": "markdown",
   "metadata": {},
   "source": [
    "\n",
    "\n",
    "Como en este caso trabajamos con secuencias de palabras (representadas por sus índices en un vocabulario), cuando queremos buscar un *batch* de datos, el `DataLoader` de PyTorch espera que los datos del *batch* tengan la misma dimensión (para poder llevarlos todos a un tensor de dimensión fija). Esto lo podemos lograr mediante el parámetro de `collate_fn`. En particular, esta función se encarga de tomar varios elementos de un `Dataset` y combinarlos de manera que puedan ser devueltos como un tensor de PyTorch. Muchas veces la `collate_fn` que viene por defecto en `DataLoader` sirve (como se vio en el notebook 2), pero este no es el caso. Se define un módulo `PadSequences` que toma un valor mínimo, opcionalmente un valor máximo y un valor de relleno (*pad*) y dada una lista de secuencias, devuelve un tensor con *padding* sobre dichas secuencias."
   ]
  },
  {
   "cell_type": "code",
   "execution_count": 24,
   "metadata": {},
   "outputs": [],
   "source": [
    "class PadSequences:\n",
    "    def __init__(self, pad_value=0, max_length=None, min_length=1):\n",
    "        assert max_length is None or min_length <= max_length\n",
    "        self.pad_value = pad_value\n",
    "        self.max_length = max_length\n",
    "        self.min_length = min_length\n",
    "\n",
    "    def __call__(self, items):\n",
    "        data, target = list(zip(*[(item[\"data\"], item[\"target\"]) for item in items]))\n",
    "        seq_lengths = [len(d) for d in data]\n",
    "\n",
    "        if self.max_length:\n",
    "            max_length = self.max_length\n",
    "            seq_lengths = [min(self.max_length, l) for l in seq_lengths]\n",
    "        else:\n",
    "            max_length = max(self.min_length, max(seq_lengths))\n",
    "\n",
    "        data = [d[:l] + [self.pad_value] * (max_length - l)\n",
    "                for d, l in zip(data, seq_lengths)]\n",
    "            \n",
    "        return {\n",
    "            \"data\": torch.LongTensor(data),\n",
    "            \"target\": torch.LongTensor(target)\n",
    "        }"
   ]
  },
  {
   "cell_type": "markdown",
   "metadata": {},
   "source": [
    "## DataLoaders\n",
    "\n",
    "Ya habiendo definido nuestros conjuntos de datos y nuestra `collation_fn`, podemos definir nuestros `DataLoader`, uno para entrenamiento y otro para evaluación. Ver que la diferencia fundamental está en `shuffle`, no queremos mezclar los valores de evaluación cada vez que evaluamos porque al evaluar mediante *mini-batchs* nos puede generar inconsistencias."
   ]
  },
  {
   "cell_type": "code",
   "execution_count": 25,
   "metadata": {},
   "outputs": [],
   "source": [
    "pad_sequences = PadSequences()\n",
    "batch_size=128\n",
    "train_loader = DataLoader(train_dataset, batch_size=batch_size, shuffle=True,\n",
    "                          collate_fn=pad_sequences, drop_last=False)\n",
    "validation_loader = DataLoader(validation_dataset, batch_size=batch_size, shuffle=False,\n",
    "                               collate_fn=pad_sequences, drop_last=False)\n",
    "test_loader = DataLoader(test_dataset, batch_size=batch_size, shuffle=False,\n",
    "                         collate_fn=pad_sequences, drop_last=False)"
   ]
  },
  {
   "cell_type": "code",
   "execution_count": 26,
   "metadata": {},
   "outputs": [
    {
     "name": "stdout",
     "output_type": "stream",
     "text": [
      "torch.Size([128, 10])\n",
      "torch.Size([128, 12])\n",
      "torch.Size([128, 9])\n"
     ]
    }
   ],
   "source": [
    "print(iter(train_loader).__next__()['data'].shape)\n",
    "print(iter(validation_loader).__next__()['data'].shape)\n",
    "print(iter(test_loader).__next__()['data'].shape)"
   ]
  },
  {
   "cell_type": "code",
   "execution_count": 27,
   "metadata": {},
   "outputs": [
    {
     "name": "stdout",
     "output_type": "stream",
     "text": [
      "torch.Size([128, 10])\n"
     ]
    }
   ],
   "source": [
    "print(iter(train_loader).__next__()['data'].shape)"
   ]
  },
  {
   "cell_type": "markdown",
   "metadata": {},
   "source": [
    "## El modelo de clasificación\n",
    "\n",
    "Para clasificación utilizaremos un perceptrón multicapa de dos capas ocultas. Claramente este modelo es naive y prácticamente todo lo que está *hardcodeado* (e.g. los tamaños de las capas o la cantidad de capas) podría ser parte de los parámetros del modelo. En particular, tenemos la capa de `Embeddings` que es rellenada con los valores de embeddings preentrenados (los de Glove en este caso)."
   ]
  },
  {
   "cell_type": "markdown",
   "metadata": {},
   "source": [
    "# Entrenamiento de la RED - Experimento 1"
   ]
  },
  {
   "cell_type": "markdown",
   "metadata": {},
   "source": [
    "Categoría de la red neuronal recurrente\n",
    "Para el caso propuesto la red debe tener una arquitectura many-to-one con entrada dada por la secuencia máxima de palabras en nuestro dataset y salida dada por el número de categorías que esperamos clasificar."
   ]
  },
  {
   "cell_type": "code",
   "execution_count": 28,
   "metadata": {},
   "outputs": [],
   "source": [
    "# Check if we have a GPU available\n",
    "use_cuda = torch.cuda.is_available()\n",
    "device = torch.device('cuda') if use_cuda else torch.device('cpu')"
   ]
  },
  {
   "cell_type": "code",
   "execution_count": 29,
   "metadata": {},
   "outputs": [],
   "source": [
    "class ImdbLSTM(nn.Module):\n",
    "    def __init__(self, \n",
    "                 pretrained_embeddings_path, \n",
    "                 dictionary,\n",
    "                 vector_size,\n",
    "                 hidden_layer,\n",
    "                 num_layers,\n",
    "                 dropout,\n",
    "                 bidirectional,\n",
    "                 freeze_embedings):\n",
    "        super().__init__()           \n",
    "        # Inicializamos la matriz de embeddings\n",
    "        embeddings_matrix = torch.randn(len(dictionary), vector_size)\n",
    "        embeddings_matrix[0] = torch.zeros(vector_size)  \n",
    "        \n",
    "        #Trabajamos con los embeddings preentrenados\n",
    "        with bz2.open(pretrained_embeddings_path, \"rt\") as fh:\n",
    "            for line in fh:\n",
    "                word, vector = line.strip().split(None, 1)\n",
    "                if word in dictionary.token2id:\n",
    "                    embeddings_matrix[dictionary.token2id[word]] =\\\n",
    "                        torch.FloatTensor([float(n) for n in vector.split()])\n",
    "       \n",
    "        # Los guardamos en la variable embeddings\n",
    "        self.embeddings = nn.Embedding.from_pretrained(embeddings_matrix,\n",
    "                                                       freeze=freeze_embedings,\n",
    "                                                       padding_idx=0)\n",
    "        #LSTM parameters\n",
    "        self.lstm = nn.LSTM(vector_size, hidden_layer, batch_first=True)\n",
    "        \n",
    "        #fully connected layer parameters\n",
    "        self.linear1 = nn.Linear(hidden_layer, 632)\n",
    "    \n",
    "    def forward(self, x):\n",
    "        x = self.embeddings(x)\n",
    "        lstm_out, (ht, ct) = self.lstm(x)\n",
    "        out = self.linear1(ht[-1])\n",
    "        return out"
   ]
  },
  {
   "cell_type": "code",
   "execution_count": 55,
   "metadata": {},
   "outputs": [
    {
     "name": "stdout",
     "output_type": "stream",
     "text": [
      "ImdbLSTM(\n",
      "  (embeddings): Embedding(50002, 300, padding_idx=0)\n",
      "  (lstm): LSTM(300, 64, batch_first=True)\n",
      "  (linear1): Linear(in_features=64, out_features=632, bias=True)\n",
      ")\n"
     ]
    }
   ],
   "source": [
    "model = ImdbLSTM(\n",
    "    \"./SBW-vectors-300-min5.txt.bz2\", \n",
    "    dictionary=preprocess_full.dictionary,\n",
    "    vector_size=300,\n",
    "    hidden_layer=64,\n",
    "    num_layers=1,\n",
    "    dropout=0.1,\n",
    "    bidirectional=True,\n",
    "    freeze_embedings=True,\n",
    ")\n",
    "print(model)"
   ]
  },
  {
   "cell_type": "code",
   "execution_count": 56,
   "metadata": {},
   "outputs": [
    {
     "data": {
      "text/plain": [
       "128"
      ]
     },
     "execution_count": 56,
     "metadata": {},
     "output_type": "execute_result"
    }
   ],
   "source": [
    "example_batch = iter(train_loader).__next__()\n",
    "preds = model(example_batch['data']) # Predictions for an entire batch\n",
    "preds = [x[0] for x in preds.tolist()]\n",
    "len(preds)"
   ]
  },
  {
   "cell_type": "code",
   "execution_count": 57,
   "metadata": {},
   "outputs": [
    {
     "data": {
      "text/plain": [
       "<seaborn.axisgrid.FacetGrid at 0x7f720008a2b0>"
      ]
     },
     "execution_count": 57,
     "metadata": {},
     "output_type": "execute_result"
    },
    {
     "data": {
      "image/png": "[encoded data removed]",
      "text/plain": [
       "<Figure size 500x500 with 1 Axes>"
      ]
     },
     "metadata": {},
     "output_type": "display_data"
    }
   ],
   "source": [
    "sns.displot(preds)"
   ]
  },
  {
   "cell_type": "code",
   "execution_count": 34,
   "metadata": {},
   "outputs": [],
   "source": [
    "BATCHES_t = (int(len(train_dataset)/batch_size) + int(len(train_dataset) % batch_size>0))\n",
    "BATCHES_v = (int(len(validation_dataset)/batch_size) + int(len(validation_dataset) % batch_size>0))"
   ]
  },
  {
   "cell_type": "markdown",
   "metadata": {},
   "source": [
    "## Experimento de MLflow\n",
    "\n",
    "Por último, ya tenemos todos los bloques para construir nuestro experimento de MLflow. Anotamos los parámetros del modelo y lanzamos a correr nuestro experimento. Cada vez que finaliza un epoch guardamos algunas métricas. Al finalizar todos los epochs corremos algunas métricas extras de evaluación."
   ]
  },
  {
   "cell_type": "code",
   "execution_count": 61,
   "metadata": {},
   "outputs": [
    {
     "data": {
      "application/vnd.jupyter.widget-view+json": {
       "model_id": "313bfd869ba6429698ae16f2ba17b0a9",
       "version_major": 2,
       "version_minor": 0
      },
      "text/plain": [
       "  0%|          | 0/5 [00:00<?, ?it/s]"
      ]
     },
     "metadata": {},
     "output_type": "display_data"
    },
    {
     "data": {
      "application/vnd.jupyter.widget-view+json": {
       "model_id": "548bac022d1146ea8fffc689f3153bbe",
       "version_major": 2,
       "version_minor": 0
      },
      "text/plain": [
       "  0%|          | 0/3825 [00:00<?, ?it/s]"
      ]
     },
     "metadata": {},
     "output_type": "display_data"
    },
    {
     "name": "stdout",
     "output_type": "stream",
     "text": [
      "Epoch 0\n"
     ]
    },
    {
     "data": {
      "application/vnd.jupyter.widget-view+json": {
       "model_id": "09927453d1194865b504501e763b1c3f",
       "version_major": 2,
       "version_minor": 0
      },
      "text/plain": [
       "  0%|          | 0/957 [00:00<?, ?it/s]"
      ]
     },
     "metadata": {},
     "output_type": "display_data"
    },
    {
     "name": "stdout",
     "output_type": "stream",
     "text": [
      "Epoch: 1 Balanced accuracy: 0.7293452218636092\n"
     ]
    },
    {
     "data": {
      "application/vnd.jupyter.widget-view+json": {
       "model_id": "308b4c32daf343528ce31d261e7a6608",
       "version_major": 2,
       "version_minor": 0
      },
      "text/plain": [
       "  0%|          | 0/3825 [00:00<?, ?it/s]"
      ]
     },
     "metadata": {},
     "output_type": "display_data"
    },
    {
     "name": "stdout",
     "output_type": "stream",
     "text": [
      "Epoch 1\n"
     ]
    },
    {
     "data": {
      "application/vnd.jupyter.widget-view+json": {
       "model_id": "a4477bf4cc5143049aa292a2ade4a163",
       "version_major": 2,
       "version_minor": 0
      },
      "text/plain": [
       "  0%|          | 0/957 [00:00<?, ?it/s]"
      ]
     },
     "metadata": {},
     "output_type": "display_data"
    },
    {
     "name": "stdout",
     "output_type": "stream",
     "text": [
      "Epoch: 2 Balanced accuracy: 0.7473395647773271\n"
     ]
    },
    {
     "data": {
      "application/vnd.jupyter.widget-view+json": {
       "model_id": "9eb7015fca7b409f86cbb5acb54692e1",
       "version_major": 2,
       "version_minor": 0
      },
      "text/plain": [
       "  0%|          | 0/3825 [00:00<?, ?it/s]"
      ]
     },
     "metadata": {},
     "output_type": "display_data"
    },
    {
     "name": "stdout",
     "output_type": "stream",
     "text": [
      "Epoch 2\n"
     ]
    },
    {
     "data": {
      "application/vnd.jupyter.widget-view+json": {
       "model_id": "89cc54a0aabd420ba3061bcdbdb86a20",
       "version_major": 2,
       "version_minor": 0
      },
      "text/plain": [
       "  0%|          | 0/957 [00:00<?, ?it/s]"
      ]
     },
     "metadata": {},
     "output_type": "display_data"
    },
    {
     "name": "stdout",
     "output_type": "stream",
     "text": [
      "Epoch: 3 Balanced accuracy: 0.7589683137958387\n"
     ]
    },
    {
     "data": {
      "application/vnd.jupyter.widget-view+json": {
       "model_id": "da7e1aff54df44eb868d09bfa4f62466",
       "version_major": 2,
       "version_minor": 0
      },
      "text/plain": [
       "  0%|          | 0/3825 [00:00<?, ?it/s]"
      ]
     },
     "metadata": {},
     "output_type": "display_data"
    },
    {
     "name": "stdout",
     "output_type": "stream",
     "text": [
      "Epoch 3\n"
     ]
    },
    {
     "data": {
      "application/vnd.jupyter.widget-view+json": {
       "model_id": "20ef1b56c2a6433f8da79fa863c731dd",
       "version_major": 2,
       "version_minor": 0
      },
      "text/plain": [
       "  0%|          | 0/957 [00:00<?, ?it/s]"
      ]
     },
     "metadata": {},
     "output_type": "display_data"
    },
    {
     "name": "stdout",
     "output_type": "stream",
     "text": [
      "Epoch: 4 Balanced accuracy: 0.7686140163519022\n"
     ]
    },
    {
     "data": {
      "application/vnd.jupyter.widget-view+json": {
       "model_id": "8adbcf155c9d4d4c9b9bc99a78918f3f",
       "version_major": 2,
       "version_minor": 0
      },
      "text/plain": [
       "  0%|          | 0/3825 [00:00<?, ?it/s]"
      ]
     },
     "metadata": {},
     "output_type": "display_data"
    },
    {
     "name": "stdout",
     "output_type": "stream",
     "text": [
      "Epoch 4\n"
     ]
    },
    {
     "data": {
      "application/vnd.jupyter.widget-view+json": {
       "model_id": "58322171d2aa4459b71285c27fa794d3",
       "version_major": 2,
       "version_minor": 0
      },
      "text/plain": [
       "  0%|          | 0/957 [00:00<?, ?it/s]"
      ]
     },
     "metadata": {},
     "output_type": "display_data"
    },
    {
     "name": "stdout",
     "output_type": "stream",
     "text": [
      "Epoch: 5 Balanced accuracy: 0.7688518178002908\n"
     ]
    }
   ],
   "source": [
    "#Mandamos modelo a GPU\n",
    "device = torch.device(\"cuda:0\" if torch.cuda.is_available() else \"cpu\")\n",
    "model.to(device)\n",
    "\n",
    "#Hiperparametros\n",
    "learning_rate = 0.005\n",
    "weight_decay = 0.00001\n",
    "EPOCHS = 5\n",
    "loss_function = nn.CrossEntropyLoss()\n",
    "optimizer = optim.Adam(model.parameters(), lr=learning_rate, weight_decay=weight_decay)\n",
    "\n",
    "\n",
    "mlflow.set_experiment(\"Meli_RNN_Muestras_1\")\n",
    "\n",
    "with mlflow.start_run():\n",
    "    mlflow.log_param(\"model_name\", \"RNN_Muestras_8\")\n",
    "    mlflow.log_param(\"freeze_embedding\", True)\n",
    "    mlflow.log_params({\n",
    "        \"embedding_size\": 300,\n",
    "        \"hidden_layer\": 64,\n",
    "        \"num_layers\": 1,\n",
    "        \"Epochs\": EPOCHS,\n",
    "        \"Dropout\": 0.1,\n",
    "        \"optimizer\": optimizer,\n",
    "        \"Learning Rate\": learning_rate,\n",
    "        \"weight_decay\":weight_decay,\n",
    "        \"Bidireccional\":True\n",
    "    })\n",
    "\n",
    "\n",
    "    \n",
    "    for epoch in trange(EPOCHS):\n",
    "        model.to(device)\n",
    "        model.train()\n",
    "        running_loss = 0.0\n",
    "        running_loss_flow = []\n",
    "        targets = []\n",
    "        predictions = []\n",
    "        pbar = tqdm(train_loader, total=BATCHES_t)\n",
    "            \n",
    "        #Train\n",
    "        print(\"Epoch\", epoch)\n",
    "        for idx, batch in enumerate(pbar):\n",
    "            data = batch[\"data\"].to(device)\n",
    "            target = batch[\"target\"].to(device)\n",
    "            optimizer.zero_grad()\n",
    "            output = model(data)\n",
    "            loss_value = loss_function(output, target)\n",
    "            loss_value.backward()\n",
    "            optimizer.step()\n",
    "            targets.extend(batch[\"target\"].numpy())\n",
    "            predictions.extend(torch.argmax(output.cpu(), 1).numpy())\n",
    "            running_loss += loss_value.item()\n",
    "            running_loss_flow.append(loss_value.item())\n",
    "            if idx > 0 and idx % 50 == 0:    # print every 50 mini-batches\n",
    "                pbar.set_description(f\"[Train {epoch + 1}, {idx}] loss: {running_loss / 50:.4g}\")\n",
    "                running_loss = 0.0\n",
    "        mlflow.log_metric(\"train_loss\", sum(running_loss_flow) / len(running_loss_flow), epoch + 1)\n",
    "        metric = balanced_accuracy_score(targets, predictions)\n",
    "        mlflow.log_metric(\"train_balanced_acc\", metric, epoch + 1)\n",
    "        \n",
    "        model.eval()\n",
    "        running_loss = 0\n",
    "        running_loss_flow = []\n",
    "        targets = []\n",
    "        predictions = []\n",
    "        pbar = tqdm(validation_loader, total=BATCHES_v)\n",
    "        \n",
    "        # Validation\n",
    "        with torch.no_grad():\n",
    "            for idx, batch in enumerate(pbar):\n",
    "                data = batch[\"data\"].to(device)\n",
    "                target = batch[\"target\"].to(device)  \n",
    "                output = model(data)\n",
    "                pred = torch.max(output, 1)[1]\n",
    "                loss_value = loss_function(output, target)\n",
    "                targets.extend(target.cpu().numpy())\n",
    "                predictions.extend(pred.cpu().numpy())\n",
    "                running_loss += loss_value.item()\n",
    "                running_loss_flow.append(loss_value.item())\n",
    "                if idx > 0 and idx % 50 == 0:    # print every 50 mini-batches\n",
    "                    pbar.set_description(f\"[Validation {epoch + 1}, {idx}] loss: {running_loss / 50:.4g}\")\n",
    "                    running_loss = 0.0\n",
    "            mlflow.log_metric(\"val_loss\", sum(running_loss_flow) / len(running_loss_flow), epoch + 1)\n",
    "            metric = balanced_accuracy_score(targets, predictions)\n",
    "            mlflow.log_metric(\"val_balanced_acc\", metric, epoch + 1)\n",
    "\n",
    "        print(f'Epoch: {epoch + 1} Balanced accuracy: {metric}')\n"
   ]
  },
  {
   "cell_type": "code",
   "execution_count": 33,
   "metadata": {},
   "outputs": [],
   "source": [
    "# mlflow.tracking.MlflowClient().list_experiments()\n",
    "# mlflow.search_runs()"
   ]
  },
  {
   "cell_type": "markdown",
   "metadata": {},
   "source": [
    "# Entrenamiento de la RED - Experimento 2"
   ]
  },
  {
   "cell_type": "markdown",
   "metadata": {},
   "source": [
    "## Arquitectura de la Red Neuronal - Experimento 2\n"
   ]
  },
  {
   "cell_type": "code",
   "execution_count": 52,
   "metadata": {},
   "outputs": [],
   "source": [
    "class RNNMeLiChallenge(nn.Module):\n",
    "    def __init__(self, \n",
    "                 pretrained_embeddings_path, \n",
    "                 dictionary,\n",
    "                 vector_size,\n",
    "                 freeze_embedings,\n",
    "                 hidden_layer,\n",
    "                 p_dropout,\n",
    "                 bidirectional,\n",
    "                 activation_fn):\n",
    "        super().__init__()\n",
    "        # Inicializamos la matriz de embeddings\n",
    "        embeddings_matrix = torch.randn(len(dictionary), vector_size)\n",
    "        embeddings_matrix[0] = torch.zeros(vector_size)\n",
    "        \n",
    "        #Trabajamos con los embeddings preentrenados\n",
    "        with bz2.open(pretrained_embeddings_path, \"rt\") as fh:\n",
    "            for line in fh:\n",
    "                word, vector = line.strip().split(None, 1)\n",
    "                if word in dictionary.token2id:\n",
    "                    embeddings_matrix[dictionary.token2id[word]] =\\\n",
    "                        torch.FloatTensor([float(n) for n in vector.split()])\n",
    "                    \n",
    "        # Los guardamos en la variable embeddings\n",
    "        self.embeddings = nn.Embedding.from_pretrained(embeddings_matrix,\n",
    "                                                       freeze=freeze_embedings,\n",
    "                                                       padding_idx=0)\n",
    "        #LSTM parametros\n",
    "        self.lstm = nn.LSTM(vector_size, hidden_layer, batch_first=True, bidirectional=bidirectional)\n",
    "        \n",
    "        #Parametros de las capas\n",
    "        self.linear1 = nn.Linear(hidden_layer, hidden_layer)\n",
    "        self.linear1_dp = nn.Dropout(p=p_dropout)\n",
    "        self.output_layer = nn.Linear(hidden_layer, 632)\n",
    "        self.activation_fn = activation_fn\n",
    "        \n",
    "    def forward(self, x):\n",
    "        x = self.embeddings(x)\n",
    "        lstm_out, (ht, ct) = self.lstm(x)\n",
    "        x = self.activation_fn(self.linear1(ht[-1]))\n",
    "        if self.training:\n",
    "            x = self.linear1_dp(x)\n",
    "        out = self.output_layer(x)\n",
    "        return out"
   ]
  },
  {
   "cell_type": "code",
   "execution_count": 85,
   "metadata": {},
   "outputs": [
    {
     "name": "stdout",
     "output_type": "stream",
     "text": [
      "RNNMeLiChallenge(\n",
      "  (embeddings): Embedding(50002, 300, padding_idx=0)\n",
      "  (lstm): LSTM(300, 254, batch_first=True, bidirectional=True)\n",
      "  (linear1): Linear(in_features=254, out_features=254, bias=True)\n",
      "  (linear1_dp): Dropout(p=0.1, inplace=False)\n",
      "  (output_layer): Linear(in_features=254, out_features=632, bias=True)\n",
      ")\n"
     ]
    }
   ],
   "source": [
    "model = RNNMeLiChallenge(pretrained_embeddings_path='./SBW-vectors-300-min5.txt.bz2',\n",
    "                        dictionary=preprocess_full.dictionary,\n",
    "                        vector_size=300,\n",
    "                        freeze_embedings=True,\n",
    "                        hidden_layer=254,\n",
    "                        bidirectional=True,\n",
    "                        p_dropout=0.1,\n",
    "                        activation_fn=F.gelu)\n",
    "print(model)"
   ]
  },
  {
   "cell_type": "code",
   "execution_count": 86,
   "metadata": {},
   "outputs": [
    {
     "data": {
      "application/vnd.jupyter.widget-view+json": {
       "model_id": "880afbc45ae24305ad08a3cfa229ac78",
       "version_major": 2,
       "version_minor": 0
      },
      "text/plain": [
       "  0%|          | 0/5 [00:00<?, ?it/s]"
      ]
     },
     "metadata": {},
     "output_type": "display_data"
    },
    {
     "data": {
      "application/vnd.jupyter.widget-view+json": {
       "model_id": "67bab27b7d0e430f9fe21053d104f30b",
       "version_major": 2,
       "version_minor": 0
      },
      "text/plain": [
       "  0%|          | 0/3825 [00:00<?, ?it/s]"
      ]
     },
     "metadata": {},
     "output_type": "display_data"
    },
    {
     "name": "stdout",
     "output_type": "stream",
     "text": [
      "Epoch 0\n"
     ]
    },
    {
     "data": {
      "application/vnd.jupyter.widget-view+json": {
       "model_id": "272aa190eff04c28a2346bb6294cbe59",
       "version_major": 2,
       "version_minor": 0
      },
      "text/plain": [
       "  0%|          | 0/957 [00:00<?, ?it/s]"
      ]
     },
     "metadata": {},
     "output_type": "display_data"
    },
    {
     "name": "stdout",
     "output_type": "stream",
     "text": [
      "Epoch: 1 Balanced accuracy: 0.7345296128990368\n"
     ]
    },
    {
     "data": {
      "application/vnd.jupyter.widget-view+json": {
       "model_id": "574fbb1c83e14882a5fe6401ad70ebcb",
       "version_major": 2,
       "version_minor": 0
      },
      "text/plain": [
       "  0%|          | 0/3825 [00:00<?, ?it/s]"
      ]
     },
     "metadata": {},
     "output_type": "display_data"
    },
    {
     "name": "stdout",
     "output_type": "stream",
     "text": [
      "Epoch 1\n"
     ]
    },
    {
     "data": {
      "application/vnd.jupyter.widget-view+json": {
       "model_id": "87d57f71424e47bda9912a3dbd19ad32",
       "version_major": 2,
       "version_minor": 0
      },
      "text/plain": [
       "  0%|          | 0/957 [00:00<?, ?it/s]"
      ]
     },
     "metadata": {},
     "output_type": "display_data"
    },
    {
     "name": "stdout",
     "output_type": "stream",
     "text": [
      "Epoch: 2 Balanced accuracy: 0.7817797974672634\n"
     ]
    },
    {
     "data": {
      "application/vnd.jupyter.widget-view+json": {
       "model_id": "109ab512d3604924bb38ca3fe8e144f0",
       "version_major": 2,
       "version_minor": 0
      },
      "text/plain": [
       "  0%|          | 0/3825 [00:00<?, ?it/s]"
      ]
     },
     "metadata": {},
     "output_type": "display_data"
    },
    {
     "name": "stdout",
     "output_type": "stream",
     "text": [
      "Epoch 2\n"
     ]
    },
    {
     "data": {
      "application/vnd.jupyter.widget-view+json": {
       "model_id": "b4f26888757949c989fcdf76beac9931",
       "version_major": 2,
       "version_minor": 0
      },
      "text/plain": [
       "  0%|          | 0/957 [00:00<?, ?it/s]"
      ]
     },
     "metadata": {},
     "output_type": "display_data"
    },
    {
     "name": "stdout",
     "output_type": "stream",
     "text": [
      "Epoch: 3 Balanced accuracy: 0.7971929917246398\n"
     ]
    },
    {
     "data": {
      "application/vnd.jupyter.widget-view+json": {
       "model_id": "27e78e8e207b428791246cfef0fefc97",
       "version_major": 2,
       "version_minor": 0
      },
      "text/plain": [
       "  0%|          | 0/3825 [00:00<?, ?it/s]"
      ]
     },
     "metadata": {},
     "output_type": "display_data"
    },
    {
     "name": "stdout",
     "output_type": "stream",
     "text": [
      "Epoch 3\n"
     ]
    },
    {
     "data": {
      "application/vnd.jupyter.widget-view+json": {
       "model_id": "f58701f6143c464e9171462179bec6f5",
       "version_major": 2,
       "version_minor": 0
      },
      "text/plain": [
       "  0%|          | 0/957 [00:00<?, ?it/s]"
      ]
     },
     "metadata": {},
     "output_type": "display_data"
    },
    {
     "name": "stdout",
     "output_type": "stream",
     "text": [
      "Epoch: 4 Balanced accuracy: 0.8062785398392727\n"
     ]
    },
    {
     "data": {
      "application/vnd.jupyter.widget-view+json": {
       "model_id": "9b2f7a9eafec4730902848463c7babb9",
       "version_major": 2,
       "version_minor": 0
      },
      "text/plain": [
       "  0%|          | 0/3825 [00:00<?, ?it/s]"
      ]
     },
     "metadata": {},
     "output_type": "display_data"
    },
    {
     "name": "stdout",
     "output_type": "stream",
     "text": [
      "Epoch 4\n"
     ]
    },
    {
     "data": {
      "application/vnd.jupyter.widget-view+json": {
       "model_id": "adf0dc0512ec4e5fbddacab8c64ae31a",
       "version_major": 2,
       "version_minor": 0
      },
      "text/plain": [
       "  0%|          | 0/957 [00:00<?, ?it/s]"
      ]
     },
     "metadata": {},
     "output_type": "display_data"
    },
    {
     "name": "stdout",
     "output_type": "stream",
     "text": [
      "Epoch: 5 Balanced accuracy: 0.8113053721290248\n"
     ]
    }
   ],
   "source": [
    "#Mandamos modelo a GPU\n",
    "device = torch.device(\"cuda:0\" if torch.cuda.is_available() else \"cpu\")\n",
    "model.to(device)\n",
    "\n",
    "#Hiperparametros\n",
    "\n",
    "hidden_layer = 254\n",
    "bidirectional = True\n",
    "p_dropouts = 0.1\n",
    "activation_fns = F.gelu\n",
    "lr = 0.001\n",
    "wd = 0.00001\n",
    "EPOCHS = 5\n",
    "loss_function = nn.CrossEntropyLoss()\n",
    "#optimizer = optim.SGD(model.parameters(), lr=lr, momentum=0.9)\n",
    "optimizer = optim.Adam(model.parameters(), lr=lr, weight_decay=wd)\n",
    "\n",
    "\n",
    "mlflow.set_experiment(\"Meli_RNN_Muestras_2\")\n",
    "\n",
    "with mlflow.start_run():\n",
    "    mlflow.log_param(\"model_name\", \"RNN_Muestras_16\")\n",
    "    mlflow.log_param(\"freeze_embedding\", True)\n",
    "    mlflow.log_params({\n",
    "        \"embedding_size\": 300,\n",
    "        \"hidden_layer\":256,\n",
    "        \"num_layers\": 2,\n",
    "        \"Epochs\": EPOCHS,\n",
    "        \"Dropout\": p_dropouts,\n",
    "        \"optimizer\": optimizer,\n",
    "        \"Learning Rate\": lr,\n",
    "        \"weight_decay\":wd,\n",
    "        \"Bidireccional\":True,\n",
    "        \"activation_fns\": activation_fns\n",
    "    })\n",
    "\n",
    "\n",
    "    \n",
    "    for epoch in trange(EPOCHS):\n",
    "        model.to(device)\n",
    "        model.train()\n",
    "        running_loss = 0.0\n",
    "        running_loss_flow = []\n",
    "        targets = []\n",
    "        predictions = []\n",
    "        pbar = tqdm(train_loader, total=BATCHES_t)\n",
    "            \n",
    "        #Train\n",
    "        print(\"Epoch\", epoch)\n",
    "        for idx, batch in enumerate(pbar):\n",
    "            data = batch[\"data\"].to(device)\n",
    "            target = batch[\"target\"].to(device)\n",
    "            optimizer.zero_grad()\n",
    "            output = model(data)\n",
    "            loss_value = loss_function(output, target)\n",
    "            loss_value.backward()\n",
    "            optimizer.step()\n",
    "            targets.extend(batch[\"target\"].numpy())\n",
    "            predictions.extend(torch.argmax(output.cpu(), 1).numpy())\n",
    "            running_loss += loss_value.item()\n",
    "            running_loss_flow.append(loss_value.item())\n",
    "            if idx > 0 and idx % 50 == 0:    # print every 50 mini-batches\n",
    "                pbar.set_description(f\"[Train {epoch + 1}, {idx}] loss: {running_loss / 50:.4g}\")\n",
    "                running_loss = 0.0\n",
    "        mlflow.log_metric(\"train_loss\", sum(running_loss_flow) / len(running_loss_flow), epoch + 1)\n",
    "        metric = balanced_accuracy_score(targets, predictions)\n",
    "        mlflow.log_metric(\"train_balanced_acc\", metric, epoch + 1)\n",
    "        \n",
    "        model.eval()\n",
    "        running_loss = 0\n",
    "        running_loss_flow = []\n",
    "        targets = []\n",
    "        predictions = []\n",
    "        pbar = tqdm(validation_loader, total=BATCHES_v)\n",
    "        \n",
    "        # Validation\n",
    "        with torch.no_grad():\n",
    "            for idx, batch in enumerate(pbar):\n",
    "                data = batch[\"data\"].to(device)\n",
    "                target = batch[\"target\"].to(device)  \n",
    "                output = model(data)\n",
    "                pred = torch.max(output, 1)[1]\n",
    "                loss_value = loss_function(output, target)\n",
    "                targets.extend(target.cpu().numpy())\n",
    "                predictions.extend(pred.cpu().numpy())\n",
    "                running_loss += loss_value.item()\n",
    "                running_loss_flow.append(loss_value.item())\n",
    "                if idx > 0 and idx % 50 == 0:    # print every 50 mini-batches\n",
    "                    pbar.set_description(f\"[Validation {epoch + 1}, {idx}] loss: {running_loss / 50:.4g}\")\n",
    "                    running_loss = 0.0\n",
    "            mlflow.log_metric(\"val_loss\", sum(running_loss_flow) / len(running_loss_flow), epoch + 1)\n",
    "            metric = balanced_accuracy_score(targets, predictions)\n",
    "            mlflow.log_metric(\"val_balanced_acc\", metric, epoch + 1)\n",
    "\n",
    "        print(f'Epoch: {epoch + 1} Balanced accuracy: {metric}')\n"
   ]
  },
  {
   "cell_type": "code",
   "execution_count": 87,
   "metadata": {},
   "outputs": [
    {
     "name": "stderr",
     "output_type": "stream",
     "text": [
      "/tmp/ipykernel_4161254/802100939.py:1: FutureWarning: ``mlflow.tracking.client.MlflowClient.list_experiments`` is deprecated. This method will be removed in a future release. Use ``search_experiments()`` instead.\n",
      "  mlflow.tracking.MlflowClient().list_experiments()\n"
     ]
    },
    {
     "data": {
      "text/html": [
       "<div>\n",
       "<style scoped>\n",
       "    .dataframe tbody tr th:only-of-type {\n",
       "        vertical-align: middle;\n",
       "    }\n",
       "\n",
       "    .dataframe tbody tr th {\n",
       "        vertical-align: top;\n",
       "    }\n",
       "\n",
       "    .dataframe thead th {\n",
       "        text-align: right;\n",
       "    }\n",
       "</style>\n",
       "<table border=\"1\" class=\"dataframe\">\n",
       "  <thead>\n",
       "    <tr style=\"text-align: right;\">\n",
       "      <th></th>\n",
       "      <th>run_id</th>\n",
       "      <th>experiment_id</th>\n",
       "      <th>status</th>\n",
       "      <th>artifact_uri</th>\n",
       "      <th>start_time</th>\n",
       "      <th>end_time</th>\n",
       "      <th>metrics.train_balanced_acc</th>\n",
       "      <th>metrics.val_balanced_acc</th>\n",
       "      <th>metrics.train_loss</th>\n",
       "      <th>metrics.val_loss</th>\n",
       "      <th>...</th>\n",
       "      <th>params.freeze_embedding</th>\n",
       "      <th>params.num_layers</th>\n",
       "      <th>params.hidden_layer</th>\n",
       "      <th>params.embedding_size</th>\n",
       "      <th>params.Learning Rate</th>\n",
       "      <th>params.Epochs</th>\n",
       "      <th>tags.mlflow.source.name</th>\n",
       "      <th>tags.mlflow.source.type</th>\n",
       "      <th>tags.mlflow.runName</th>\n",
       "      <th>tags.mlflow.user</th>\n",
       "    </tr>\n",
       "  </thead>\n",
       "  <tbody>\n",
       "    <tr>\n",
       "      <th>0</th>\n",
       "      <td>fa9570f9702743b3a1d2e14edd2bb537</td>\n",
       "      <td>16</td>\n",
       "      <td>FINISHED</td>\n",
       "      <td>file:///users/cdagatti/Deep_Learning_Diplo/mlr...</td>\n",
       "      <td>2022-11-25 23:37:16.189000+00:00</td>\n",
       "      <td>2022-11-25 23:56:32.658000+00:00</td>\n",
       "      <td>0.841096</td>\n",
       "      <td>0.811305</td>\n",
       "      <td>0.637809</td>\n",
       "      <td>0.825647</td>\n",
       "      <td>...</td>\n",
       "      <td>True</td>\n",
       "      <td>2</td>\n",
       "      <td>256</td>\n",
       "      <td>300</td>\n",
       "      <td>0.001</td>\n",
       "      <td>5</td>\n",
       "      <td>/users/cdagatti/miniconda3/envs/deeplearning/l...</td>\n",
       "      <td>LOCAL</td>\n",
       "      <td>upbeat-moth-364</td>\n",
       "      <td>cdagatti</td>\n",
       "    </tr>\n",
       "    <tr>\n",
       "      <th>1</th>\n",
       "      <td>9acdbc80d98e480f9c89ba25d5650f67</td>\n",
       "      <td>16</td>\n",
       "      <td>FINISHED</td>\n",
       "      <td>file:///users/cdagatti/Deep_Learning_Diplo/mlr...</td>\n",
       "      <td>2022-11-25 23:22:44.715000+00:00</td>\n",
       "      <td>2022-11-25 23:32:28.073000+00:00</td>\n",
       "      <td>0.842600</td>\n",
       "      <td>0.814289</td>\n",
       "      <td>0.639556</td>\n",
       "      <td>0.820438</td>\n",
       "      <td>...</td>\n",
       "      <td>True</td>\n",
       "      <td>2</td>\n",
       "      <td>256</td>\n",
       "      <td>300</td>\n",
       "      <td>0.001</td>\n",
       "      <td>5</td>\n",
       "      <td>/users/cdagatti/miniconda3/envs/deeplearning/l...</td>\n",
       "      <td>LOCAL</td>\n",
       "      <td>powerful-goat-866</td>\n",
       "      <td>cdagatti</td>\n",
       "    </tr>\n",
       "    <tr>\n",
       "      <th>2</th>\n",
       "      <td>b0b6e034a137468c91e37d1e21f18e09</td>\n",
       "      <td>16</td>\n",
       "      <td>FINISHED</td>\n",
       "      <td>file:///users/cdagatti/Deep_Learning_Diplo/mlr...</td>\n",
       "      <td>2022-11-25 23:09:39.503000+00:00</td>\n",
       "      <td>2022-11-25 23:18:17.684000+00:00</td>\n",
       "      <td>0.842018</td>\n",
       "      <td>0.810863</td>\n",
       "      <td>0.633753</td>\n",
       "      <td>0.829276</td>\n",
       "      <td>...</td>\n",
       "      <td>True</td>\n",
       "      <td>2</td>\n",
       "      <td>256</td>\n",
       "      <td>300</td>\n",
       "      <td>0.001</td>\n",
       "      <td>5</td>\n",
       "      <td>/users/cdagatti/miniconda3/envs/deeplearning/l...</td>\n",
       "      <td>LOCAL</td>\n",
       "      <td>gregarious-duck-464</td>\n",
       "      <td>cdagatti</td>\n",
       "    </tr>\n",
       "    <tr>\n",
       "      <th>3</th>\n",
       "      <td>fb6ad4e766b8434da730a66f41d09a2f</td>\n",
       "      <td>16</td>\n",
       "      <td>FINISHED</td>\n",
       "      <td>file:///users/cdagatti/Deep_Learning_Diplo/mlr...</td>\n",
       "      <td>2022-11-25 22:54:30.010000+00:00</td>\n",
       "      <td>2022-11-25 23:05:04.614000+00:00</td>\n",
       "      <td>0.873730</td>\n",
       "      <td>0.814066</td>\n",
       "      <td>0.483800</td>\n",
       "      <td>0.841161</td>\n",
       "      <td>...</td>\n",
       "      <td>True</td>\n",
       "      <td>2</td>\n",
       "      <td>256</td>\n",
       "      <td>300</td>\n",
       "      <td>0.001</td>\n",
       "      <td>5</td>\n",
       "      <td>/users/cdagatti/miniconda3/envs/deeplearning/l...</td>\n",
       "      <td>LOCAL</td>\n",
       "      <td>upset-dog-707</td>\n",
       "      <td>cdagatti</td>\n",
       "    </tr>\n",
       "    <tr>\n",
       "      <th>4</th>\n",
       "      <td>7742e682b92c43bb8a08f1e71aaeec29</td>\n",
       "      <td>16</td>\n",
       "      <td>FINISHED</td>\n",
       "      <td>file:///users/cdagatti/Deep_Learning_Diplo/mlr...</td>\n",
       "      <td>2022-11-25 22:42:17.984000+00:00</td>\n",
       "      <td>2022-11-25 22:52:25.378000+00:00</td>\n",
       "      <td>0.835475</td>\n",
       "      <td>0.808445</td>\n",
       "      <td>0.656615</td>\n",
       "      <td>0.837373</td>\n",
       "      <td>...</td>\n",
       "      <td>True</td>\n",
       "      <td>2</td>\n",
       "      <td>256</td>\n",
       "      <td>300</td>\n",
       "      <td>0.005</td>\n",
       "      <td>5</td>\n",
       "      <td>/users/cdagatti/miniconda3/envs/deeplearning/l...</td>\n",
       "      <td>LOCAL</td>\n",
       "      <td>kindly-boar-529</td>\n",
       "      <td>cdagatti</td>\n",
       "    </tr>\n",
       "    <tr>\n",
       "      <th>5</th>\n",
       "      <td>370dfac0ebb648aab6365de0a06c04c9</td>\n",
       "      <td>16</td>\n",
       "      <td>FINISHED</td>\n",
       "      <td>file:///users/cdagatti/Deep_Learning_Diplo/mlr...</td>\n",
       "      <td>2022-11-25 22:32:41.594000+00:00</td>\n",
       "      <td>2022-11-25 22:40:58.831000+00:00</td>\n",
       "      <td>0.007679</td>\n",
       "      <td>0.009450</td>\n",
       "      <td>6.277750</td>\n",
       "      <td>6.271654</td>\n",
       "      <td>...</td>\n",
       "      <td>True</td>\n",
       "      <td>2</td>\n",
       "      <td>256</td>\n",
       "      <td>300</td>\n",
       "      <td>0.005</td>\n",
       "      <td>5</td>\n",
       "      <td>/users/cdagatti/miniconda3/envs/deeplearning/l...</td>\n",
       "      <td>LOCAL</td>\n",
       "      <td>polite-croc-920</td>\n",
       "      <td>cdagatti</td>\n",
       "    </tr>\n",
       "    <tr>\n",
       "      <th>6</th>\n",
       "      <td>680a70f9705d40d0a1effc6eda323360</td>\n",
       "      <td>16</td>\n",
       "      <td>FINISHED</td>\n",
       "      <td>file:///users/cdagatti/Deep_Learning_Diplo/mlr...</td>\n",
       "      <td>2022-11-25 22:17:42.796000+00:00</td>\n",
       "      <td>2022-11-25 22:27:07.889000+00:00</td>\n",
       "      <td>0.770043</td>\n",
       "      <td>0.774129</td>\n",
       "      <td>0.952662</td>\n",
       "      <td>0.965465</td>\n",
       "      <td>...</td>\n",
       "      <td>True</td>\n",
       "      <td>2</td>\n",
       "      <td>256</td>\n",
       "      <td>300</td>\n",
       "      <td>0.005</td>\n",
       "      <td>5</td>\n",
       "      <td>/users/cdagatti/miniconda3/envs/deeplearning/l...</td>\n",
       "      <td>LOCAL</td>\n",
       "      <td>victorious-chimp-404</td>\n",
       "      <td>cdagatti</td>\n",
       "    </tr>\n",
       "    <tr>\n",
       "      <th>7</th>\n",
       "      <td>9500f5b94634404dbfd26f4e9b39344c</td>\n",
       "      <td>16</td>\n",
       "      <td>FINISHED</td>\n",
       "      <td>file:///users/cdagatti/Deep_Learning_Diplo/mlr...</td>\n",
       "      <td>2022-11-25 22:03:10.912000+00:00</td>\n",
       "      <td>2022-11-25 22:12:23.581000+00:00</td>\n",
       "      <td>0.795879</td>\n",
       "      <td>0.790785</td>\n",
       "      <td>0.833472</td>\n",
       "      <td>0.925080</td>\n",
       "      <td>...</td>\n",
       "      <td>True</td>\n",
       "      <td>2</td>\n",
       "      <td>256</td>\n",
       "      <td>300</td>\n",
       "      <td>0.005</td>\n",
       "      <td>5</td>\n",
       "      <td>/users/cdagatti/miniconda3/envs/deeplearning/l...</td>\n",
       "      <td>LOCAL</td>\n",
       "      <td>tasteful-bee-335</td>\n",
       "      <td>cdagatti</td>\n",
       "    </tr>\n",
       "    <tr>\n",
       "      <th>8</th>\n",
       "      <td>d43fb980d2da4246b9f8f96338bbe55d</td>\n",
       "      <td>16</td>\n",
       "      <td>FINISHED</td>\n",
       "      <td>file:///users/cdagatti/Deep_Learning_Diplo/mlr...</td>\n",
       "      <td>2022-11-25 21:51:06.906000+00:00</td>\n",
       "      <td>2022-11-25 21:59:53.213000+00:00</td>\n",
       "      <td>0.783287</td>\n",
       "      <td>0.777469</td>\n",
       "      <td>0.894747</td>\n",
       "      <td>0.954877</td>\n",
       "      <td>...</td>\n",
       "      <td>True</td>\n",
       "      <td>2</td>\n",
       "      <td>256</td>\n",
       "      <td>300</td>\n",
       "      <td>0.005</td>\n",
       "      <td>5</td>\n",
       "      <td>/users/cdagatti/miniconda3/envs/deeplearning/l...</td>\n",
       "      <td>LOCAL</td>\n",
       "      <td>clumsy-fowl-915</td>\n",
       "      <td>cdagatti</td>\n",
       "    </tr>\n",
       "    <tr>\n",
       "      <th>9</th>\n",
       "      <td>2bd0dd5c86974caabe7a16b5be6c17d3</td>\n",
       "      <td>16</td>\n",
       "      <td>FINISHED</td>\n",
       "      <td>file:///users/cdagatti/Deep_Learning_Diplo/mlr...</td>\n",
       "      <td>2022-11-25 21:40:28.545000+00:00</td>\n",
       "      <td>2022-11-25 21:48:05.705000+00:00</td>\n",
       "      <td>0.757508</td>\n",
       "      <td>0.765278</td>\n",
       "      <td>1.007169</td>\n",
       "      <td>1.007918</td>\n",
       "      <td>...</td>\n",
       "      <td>True</td>\n",
       "      <td>2</td>\n",
       "      <td>64</td>\n",
       "      <td>300</td>\n",
       "      <td>0.005</td>\n",
       "      <td>5</td>\n",
       "      <td>/users/cdagatti/miniconda3/envs/deeplearning/l...</td>\n",
       "      <td>LOCAL</td>\n",
       "      <td>serious-skunk-655</td>\n",
       "      <td>cdagatti</td>\n",
       "    </tr>\n",
       "    <tr>\n",
       "      <th>10</th>\n",
       "      <td>d6f84e9a225b4649894611f62330bc5a</td>\n",
       "      <td>16</td>\n",
       "      <td>FINISHED</td>\n",
       "      <td>file:///users/cdagatti/Deep_Learning_Diplo/mlr...</td>\n",
       "      <td>2022-11-25 21:28:30.318000+00:00</td>\n",
       "      <td>2022-11-25 21:37:02.163000+00:00</td>\n",
       "      <td>0.741973</td>\n",
       "      <td>0.754993</td>\n",
       "      <td>1.089831</td>\n",
       "      <td>1.057940</td>\n",
       "      <td>...</td>\n",
       "      <td>True</td>\n",
       "      <td>2</td>\n",
       "      <td>64</td>\n",
       "      <td>300</td>\n",
       "      <td>0.005</td>\n",
       "      <td>5</td>\n",
       "      <td>/users/cdagatti/miniconda3/envs/deeplearning/l...</td>\n",
       "      <td>LOCAL</td>\n",
       "      <td>worried-stoat-729</td>\n",
       "      <td>cdagatti</td>\n",
       "    </tr>\n",
       "    <tr>\n",
       "      <th>11</th>\n",
       "      <td>1e53d755c6e94424b8d3bae1142dc471</td>\n",
       "      <td>16</td>\n",
       "      <td>FINISHED</td>\n",
       "      <td>file:///users/cdagatti/Deep_Learning_Diplo/mlr...</td>\n",
       "      <td>2022-11-25 21:15:45.436000+00:00</td>\n",
       "      <td>2022-11-25 21:24:45.897000+00:00</td>\n",
       "      <td>0.772986</td>\n",
       "      <td>0.774537</td>\n",
       "      <td>0.944038</td>\n",
       "      <td>0.982370</td>\n",
       "      <td>...</td>\n",
       "      <td>True</td>\n",
       "      <td>2</td>\n",
       "      <td>128</td>\n",
       "      <td>300</td>\n",
       "      <td>0.005</td>\n",
       "      <td>5</td>\n",
       "      <td>/users/cdagatti/miniconda3/envs/deeplearning/l...</td>\n",
       "      <td>LOCAL</td>\n",
       "      <td>shivering-mouse-342</td>\n",
       "      <td>cdagatti</td>\n",
       "    </tr>\n",
       "    <tr>\n",
       "      <th>12</th>\n",
       "      <td>8c58df15912a4d739be31289968f1c8d</td>\n",
       "      <td>16</td>\n",
       "      <td>FAILED</td>\n",
       "      <td>file:///users/cdagatti/Deep_Learning_Diplo/mlr...</td>\n",
       "      <td>2022-11-25 20:50:57.943000+00:00</td>\n",
       "      <td>2022-11-25 20:50:58.074000+00:00</td>\n",
       "      <td>NaN</td>\n",
       "      <td>NaN</td>\n",
       "      <td>NaN</td>\n",
       "      <td>NaN</td>\n",
       "      <td>...</td>\n",
       "      <td>True</td>\n",
       "      <td>2</td>\n",
       "      <td>128</td>\n",
       "      <td>300</td>\n",
       "      <td>0.005</td>\n",
       "      <td>5</td>\n",
       "      <td>/users/cdagatti/miniconda3/envs/deeplearning/l...</td>\n",
       "      <td>LOCAL</td>\n",
       "      <td>valuable-cod-36</td>\n",
       "      <td>cdagatti</td>\n",
       "    </tr>\n",
       "    <tr>\n",
       "      <th>13</th>\n",
       "      <td>7d16da100fb6427db29d4407386e18c7</td>\n",
       "      <td>16</td>\n",
       "      <td>FAILED</td>\n",
       "      <td>file:///users/cdagatti/Deep_Learning_Diplo/mlr...</td>\n",
       "      <td>2022-11-25 20:45:23.627000+00:00</td>\n",
       "      <td>2022-11-25 20:45:23.761000+00:00</td>\n",
       "      <td>NaN</td>\n",
       "      <td>NaN</td>\n",
       "      <td>NaN</td>\n",
       "      <td>NaN</td>\n",
       "      <td>...</td>\n",
       "      <td>True</td>\n",
       "      <td>2</td>\n",
       "      <td>128</td>\n",
       "      <td>300</td>\n",
       "      <td>0.005</td>\n",
       "      <td>5</td>\n",
       "      <td>/users/cdagatti/miniconda3/envs/deeplearning/l...</td>\n",
       "      <td>LOCAL</td>\n",
       "      <td>able-shrew-626</td>\n",
       "      <td>cdagatti</td>\n",
       "    </tr>\n",
       "    <tr>\n",
       "      <th>14</th>\n",
       "      <td>c13947e02a94427494e28a31267e7d78</td>\n",
       "      <td>16</td>\n",
       "      <td>FAILED</td>\n",
       "      <td>file:///users/cdagatti/Deep_Learning_Diplo/mlr...</td>\n",
       "      <td>2022-11-25 20:33:30.081000+00:00</td>\n",
       "      <td>2022-11-25 20:33:30.521000+00:00</td>\n",
       "      <td>NaN</td>\n",
       "      <td>NaN</td>\n",
       "      <td>NaN</td>\n",
       "      <td>NaN</td>\n",
       "      <td>...</td>\n",
       "      <td>True</td>\n",
       "      <td>1</td>\n",
       "      <td>64</td>\n",
       "      <td>300</td>\n",
       "      <td>0.005</td>\n",
       "      <td>5</td>\n",
       "      <td>/users/cdagatti/miniconda3/envs/deeplearning/l...</td>\n",
       "      <td>LOCAL</td>\n",
       "      <td>honorable-lark-403</td>\n",
       "      <td>cdagatti</td>\n",
       "    </tr>\n",
       "    <tr>\n",
       "      <th>15</th>\n",
       "      <td>dbdec09bb3194c3e8615714a463281bd</td>\n",
       "      <td>16</td>\n",
       "      <td>FAILED</td>\n",
       "      <td>file:///users/cdagatti/Deep_Learning_Diplo/mlr...</td>\n",
       "      <td>2022-11-25 20:32:55.978000+00:00</td>\n",
       "      <td>2022-11-25 20:32:56.033000+00:00</td>\n",
       "      <td>NaN</td>\n",
       "      <td>NaN</td>\n",
       "      <td>NaN</td>\n",
       "      <td>NaN</td>\n",
       "      <td>...</td>\n",
       "      <td>True</td>\n",
       "      <td>1</td>\n",
       "      <td>64</td>\n",
       "      <td>300</td>\n",
       "      <td>0.005</td>\n",
       "      <td>5</td>\n",
       "      <td>/users/cdagatti/miniconda3/envs/deeplearning/l...</td>\n",
       "      <td>LOCAL</td>\n",
       "      <td>painted-wolf-55</td>\n",
       "      <td>cdagatti</td>\n",
       "    </tr>\n",
       "  </tbody>\n",
       "</table>\n",
       "<p>16 rows × 26 columns</p>\n",
       "</div>"
      ],
      "text/plain": [
       "                              run_id experiment_id    status  \\\n",
       "0   fa9570f9702743b3a1d2e14edd2bb537            16  FINISHED   \n",
       "1   9acdbc80d98e480f9c89ba25d5650f67            16  FINISHED   \n",
       "2   b0b6e034a137468c91e37d1e21f18e09            16  FINISHED   \n",
       "3   fb6ad4e766b8434da730a66f41d09a2f            16  FINISHED   \n",
       "4   7742e682b92c43bb8a08f1e71aaeec29            16  FINISHED   \n",
       "5   370dfac0ebb648aab6365de0a06c04c9            16  FINISHED   \n",
       "6   680a70f9705d40d0a1effc6eda323360            16  FINISHED   \n",
       "7   9500f5b94634404dbfd26f4e9b39344c            16  FINISHED   \n",
       "8   d43fb980d2da4246b9f8f96338bbe55d            16  FINISHED   \n",
       "9   2bd0dd5c86974caabe7a16b5be6c17d3            16  FINISHED   \n",
       "10  d6f84e9a225b4649894611f62330bc5a            16  FINISHED   \n",
       "11  1e53d755c6e94424b8d3bae1142dc471            16  FINISHED   \n",
       "12  8c58df15912a4d739be31289968f1c8d            16    FAILED   \n",
       "13  7d16da100fb6427db29d4407386e18c7            16    FAILED   \n",
       "14  c13947e02a94427494e28a31267e7d78            16    FAILED   \n",
       "15  dbdec09bb3194c3e8615714a463281bd            16    FAILED   \n",
       "\n",
       "                                         artifact_uri  \\\n",
       "0   file:///users/cdagatti/Deep_Learning_Diplo/mlr...   \n",
       "1   file:///users/cdagatti/Deep_Learning_Diplo/mlr...   \n",
       "2   file:///users/cdagatti/Deep_Learning_Diplo/mlr...   \n",
       "3   file:///users/cdagatti/Deep_Learning_Diplo/mlr...   \n",
       "4   file:///users/cdagatti/Deep_Learning_Diplo/mlr...   \n",
       "5   file:///users/cdagatti/Deep_Learning_Diplo/mlr...   \n",
       "6   file:///users/cdagatti/Deep_Learning_Diplo/mlr...   \n",
       "7   file:///users/cdagatti/Deep_Learning_Diplo/mlr...   \n",
       "8   file:///users/cdagatti/Deep_Learning_Diplo/mlr...   \n",
       "9   file:///users/cdagatti/Deep_Learning_Diplo/mlr...   \n",
       "10  file:///users/cdagatti/Deep_Learning_Diplo/mlr...   \n",
       "11  file:///users/cdagatti/Deep_Learning_Diplo/mlr...   \n",
       "12  file:///users/cdagatti/Deep_Learning_Diplo/mlr...   \n",
       "13  file:///users/cdagatti/Deep_Learning_Diplo/mlr...   \n",
       "14  file:///users/cdagatti/Deep_Learning_Diplo/mlr...   \n",
       "15  file:///users/cdagatti/Deep_Learning_Diplo/mlr...   \n",
       "\n",
       "                         start_time                         end_time  \\\n",
       "0  2022-11-25 23:37:16.189000+00:00 2022-11-25 23:56:32.658000+00:00   \n",
       "1  2022-11-25 23:22:44.715000+00:00 2022-11-25 23:32:28.073000+00:00   \n",
       "2  2022-11-25 23:09:39.503000+00:00 2022-11-25 23:18:17.684000+00:00   \n",
       "3  2022-11-25 22:54:30.010000+00:00 2022-11-25 23:05:04.614000+00:00   \n",
       "4  2022-11-25 22:42:17.984000+00:00 2022-11-25 22:52:25.378000+00:00   \n",
       "5  2022-11-25 22:32:41.594000+00:00 2022-11-25 22:40:58.831000+00:00   \n",
       "6  2022-11-25 22:17:42.796000+00:00 2022-11-25 22:27:07.889000+00:00   \n",
       "7  2022-11-25 22:03:10.912000+00:00 2022-11-25 22:12:23.581000+00:00   \n",
       "8  2022-11-25 21:51:06.906000+00:00 2022-11-25 21:59:53.213000+00:00   \n",
       "9  2022-11-25 21:40:28.545000+00:00 2022-11-25 21:48:05.705000+00:00   \n",
       "10 2022-11-25 21:28:30.318000+00:00 2022-11-25 21:37:02.163000+00:00   \n",
       "11 2022-11-25 21:15:45.436000+00:00 2022-11-25 21:24:45.897000+00:00   \n",
       "12 2022-11-25 20:50:57.943000+00:00 2022-11-25 20:50:58.074000+00:00   \n",
       "13 2022-11-25 20:45:23.627000+00:00 2022-11-25 20:45:23.761000+00:00   \n",
       "14 2022-11-25 20:33:30.081000+00:00 2022-11-25 20:33:30.521000+00:00   \n",
       "15 2022-11-25 20:32:55.978000+00:00 2022-11-25 20:32:56.033000+00:00   \n",
       "\n",
       "    metrics.train_balanced_acc  metrics.val_balanced_acc  metrics.train_loss  \\\n",
       "0                     0.841096                  0.811305            0.637809   \n",
       "1                     0.842600                  0.814289            0.639556   \n",
       "2                     0.842018                  0.810863            0.633753   \n",
       "3                     0.873730                  0.814066            0.483800   \n",
       "4                     0.835475                  0.808445            0.656615   \n",
       "5                     0.007679                  0.009450            6.277750   \n",
       "6                     0.770043                  0.774129            0.952662   \n",
       "7                     0.795879                  0.790785            0.833472   \n",
       "8                     0.783287                  0.777469            0.894747   \n",
       "9                     0.757508                  0.765278            1.007169   \n",
       "10                    0.741973                  0.754993            1.089831   \n",
       "11                    0.772986                  0.774537            0.944038   \n",
       "12                         NaN                       NaN                 NaN   \n",
       "13                         NaN                       NaN                 NaN   \n",
       "14                         NaN                       NaN                 NaN   \n",
       "15                         NaN                       NaN                 NaN   \n",
       "\n",
       "    metrics.val_loss  ... params.freeze_embedding params.num_layers  \\\n",
       "0           0.825647  ...                    True                 2   \n",
       "1           0.820438  ...                    True                 2   \n",
       "2           0.829276  ...                    True                 2   \n",
       "3           0.841161  ...                    True                 2   \n",
       "4           0.837373  ...                    True                 2   \n",
       "5           6.271654  ...                    True                 2   \n",
       "6           0.965465  ...                    True                 2   \n",
       "7           0.925080  ...                    True                 2   \n",
       "8           0.954877  ...                    True                 2   \n",
       "9           1.007918  ...                    True                 2   \n",
       "10          1.057940  ...                    True                 2   \n",
       "11          0.982370  ...                    True                 2   \n",
       "12               NaN  ...                    True                 2   \n",
       "13               NaN  ...                    True                 2   \n",
       "14               NaN  ...                    True                 1   \n",
       "15               NaN  ...                    True                 1   \n",
       "\n",
       "   params.hidden_layer params.embedding_size params.Learning Rate  \\\n",
       "0                  256                   300                0.001   \n",
       "1                  256                   300                0.001   \n",
       "2                  256                   300                0.001   \n",
       "3                  256                   300                0.001   \n",
       "4                  256                   300                0.005   \n",
       "5                  256                   300                0.005   \n",
       "6                  256                   300                0.005   \n",
       "7                  256                   300                0.005   \n",
       "8                  256                   300                0.005   \n",
       "9                   64                   300                0.005   \n",
       "10                  64                   300                0.005   \n",
       "11                 128                   300                0.005   \n",
       "12                 128                   300                0.005   \n",
       "13                 128                   300                0.005   \n",
       "14                  64                   300                0.005   \n",
       "15                  64                   300                0.005   \n",
       "\n",
       "   params.Epochs                            tags.mlflow.source.name  \\\n",
       "0              5  /users/cdagatti/miniconda3/envs/deeplearning/l...   \n",
       "1              5  /users/cdagatti/miniconda3/envs/deeplearning/l...   \n",
       "2              5  /users/cdagatti/miniconda3/envs/deeplearning/l...   \n",
       "3              5  /users/cdagatti/miniconda3/envs/deeplearning/l...   \n",
       "4              5  /users/cdagatti/miniconda3/envs/deeplearning/l...   \n",
       "5              5  /users/cdagatti/miniconda3/envs/deeplearning/l...   \n",
       "6              5  /users/cdagatti/miniconda3/envs/deeplearning/l...   \n",
       "7              5  /users/cdagatti/miniconda3/envs/deeplearning/l...   \n",
       "8              5  /users/cdagatti/miniconda3/envs/deeplearning/l...   \n",
       "9              5  /users/cdagatti/miniconda3/envs/deeplearning/l...   \n",
       "10             5  /users/cdagatti/miniconda3/envs/deeplearning/l...   \n",
       "11             5  /users/cdagatti/miniconda3/envs/deeplearning/l...   \n",
       "12             5  /users/cdagatti/miniconda3/envs/deeplearning/l...   \n",
       "13             5  /users/cdagatti/miniconda3/envs/deeplearning/l...   \n",
       "14             5  /users/cdagatti/miniconda3/envs/deeplearning/l...   \n",
       "15             5  /users/cdagatti/miniconda3/envs/deeplearning/l...   \n",
       "\n",
       "   tags.mlflow.source.type   tags.mlflow.runName tags.mlflow.user  \n",
       "0                    LOCAL       upbeat-moth-364         cdagatti  \n",
       "1                    LOCAL     powerful-goat-866         cdagatti  \n",
       "2                    LOCAL   gregarious-duck-464         cdagatti  \n",
       "3                    LOCAL         upset-dog-707         cdagatti  \n",
       "4                    LOCAL       kindly-boar-529         cdagatti  \n",
       "5                    LOCAL       polite-croc-920         cdagatti  \n",
       "6                    LOCAL  victorious-chimp-404         cdagatti  \n",
       "7                    LOCAL      tasteful-bee-335         cdagatti  \n",
       "8                    LOCAL       clumsy-fowl-915         cdagatti  \n",
       "9                    LOCAL     serious-skunk-655         cdagatti  \n",
       "10                   LOCAL     worried-stoat-729         cdagatti  \n",
       "11                   LOCAL   shivering-mouse-342         cdagatti  \n",
       "12                   LOCAL       valuable-cod-36         cdagatti  \n",
       "13                   LOCAL        able-shrew-626         cdagatti  \n",
       "14                   LOCAL    honorable-lark-403         cdagatti  \n",
       "15                   LOCAL       painted-wolf-55         cdagatti  \n",
       "\n",
       "[16 rows x 26 columns]"
      ]
     },
     "execution_count": 87,
     "metadata": {},
     "output_type": "execute_result"
    }
   ],
   "source": [
    "mlflow.tracking.MlflowClient().list_experiments()\n",
    "mlflow.search_runs()"
   ]
  },
  {
   "cell_type": "code",
   "execution_count": null,
   "metadata": {},
   "outputs": [],
   "source": []
  }
 ],
 "metadata": {
  "accelerator": "GPU",
  "celltoolbar": "Slideshow",
  "colab": {
   "collapsed_sections": [],
   "include_colab_link": true,
   "provenance": []
  },
  "gpuClass": "standard",
  "kernelspec": {
   "display_name": "Python 3 (ipykernel)",
   "language": "python",
   "name": "python3"
  },
  "language_info": {
   "codemirror_mode": {
    "name": "ipython",
    "version": 3
   },
   "file_extension": ".py",
   "mimetype": "text/x-python",
   "name": "python",
   "nbconvert_exporter": "python",
   "pygments_lexer": "ipython3",
   "version": "3.9.5"
  },
  "rise": {
   "scroll": true
  },
  "widgets": {
   "application/vnd.jupyter.widget-state+json": {
    "03daa4b5c14a461daa6d394d5d80938d": {
     "model_module": "@jupyter-widgets/controls",
     "model_module_version": "1.5.0",
     "model_name": "HBoxModel",
     "state": {
      "_dom_classes": [],
      "_model_module": "@jupyter-widgets/controls",
      "_model_module_version": "1.5.0",
      "_model_name": "HBoxModel",
      "_view_count": null,
      "_view_module": "@jupyter-widgets/controls",
      "_view_module_version": "1.5.0",
      "_view_name": "HBoxView",
      "box_style": "",
      "children": [
       "IPY_MODEL_8ba0205aebeb4c3d81ce9ed5c23e26ce",
       "IPY_MODEL_b038276512384cff8763cc9f95d0dbaf",
       "IPY_MODEL_afbb0f98ec2042ccadd04d267e87076c"
      ],
      "layout": "IPY_MODEL_cb5de5ba3ac44337b999efcbfba37808"
     }
    },
    "063ae62c0819444e92f0cf4203b18080": {
     "model_module": "@jupyter-widgets/base",
     "model_module_version": "1.2.0",
     "model_name": "LayoutModel",
     "state": {
      "_model_module": "@jupyter-widgets/base",
      "_model_module_version": "1.2.0",
      "_model_name": "LayoutModel",
      "_view_count": null,
      "_view_module": "@jupyter-widgets/base",
      "_view_module_version": "1.2.0",
      "_view_name": "LayoutView",
      "align_content": null,
      "align_items": null,
      "align_self": null,
      "border": null,
      "bottom": null,
      "display": null,
      "flex": null,
      "flex_flow": null,
      "grid_area": null,
      "grid_auto_columns": null,
      "grid_auto_flow": null,
      "grid_auto_rows": null,
      "grid_column": null,
      "grid_gap": null,
      "grid_row": null,
      "grid_template_areas": null,
      "grid_template_columns": null,
      "grid_template_rows": null,
      "height": null,
      "justify_content": null,
      "justify_items": null,
      "left": null,
      "margin": null,
      "max_height": null,
      "max_width": null,
      "min_height": null,
      "min_width": null,
      "object_fit": null,
      "object_position": null,
      "order": null,
      "overflow": null,
      "overflow_x": null,
      "overflow_y": null,
      "padding": null,
      "right": null,
      "top": null,
      "visibility": null,
      "width": null
     }
    },
    "07353c98bd4244f88056f429fd41bb13": {
     "model_module": "@jupyter-widgets/controls",
     "model_module_version": "1.5.0",
     "model_name": "DescriptionStyleModel",
     "state": {
      "_model_module": "@jupyter-widgets/controls",
      "_model_module_version": "1.5.0",
      "_model_name": "DescriptionStyleModel",
      "_view_count": null,
      "_view_module": "@jupyter-widgets/base",
      "_view_module_version": "1.2.0",
      "_view_name": "StyleView",
      "description_width": ""
     }
    },
    "0a715d2945b14b0ea9d9407bc814e13c": {
     "model_module": "@jupyter-widgets/controls",
     "model_module_version": "1.5.0",
     "model_name": "HTMLModel",
     "state": {
      "_dom_classes": [],
      "_model_module": "@jupyter-widgets/controls",
      "_model_module_version": "1.5.0",
      "_model_name": "HTMLModel",
      "_view_count": null,
      "_view_module": "@jupyter-widgets/controls",
      "_view_module_version": "1.5.0",
      "_view_name": "HTMLView",
      "description": "",
      "description_tooltip": null,
      "layout": "IPY_MODEL_72b82672bc6e4a81a8c41c1524a1af17",
      "placeholder": "​",
      "style": "IPY_MODEL_e01a8f2cd7404009b21e9d05bb399d2b",
      "value": "100%"
     }
    },
    "0e0ef9e240e94464b21d22787b750fdc": {
     "model_module": "@jupyter-widgets/controls",
     "model_module_version": "1.5.0",
     "model_name": "HBoxModel",
     "state": {
      "_dom_classes": [],
      "_model_module": "@jupyter-widgets/controls",
      "_model_module_version": "1.5.0",
      "_model_name": "HBoxModel",
      "_view_count": null,
      "_view_module": "@jupyter-widgets/controls",
      "_view_module_version": "1.5.0",
      "_view_name": "HBoxView",
      "box_style": "",
      "children": [
       "IPY_MODEL_0a715d2945b14b0ea9d9407bc814e13c",
       "IPY_MODEL_cdc07de94bb54234a9ca9e760ef99ee7",
       "IPY_MODEL_b4654c530226421a8ebeac6857dc87b5"
      ],
      "layout": "IPY_MODEL_f3bdcc1a90e74467bf3d69974809d122"
     }
    },
    "11321f0dc62c4add849f8cdbd5703c82": {
     "model_module": "@jupyter-widgets/controls",
     "model_module_version": "1.5.0",
     "model_name": "DescriptionStyleModel",
     "state": {
      "_model_module": "@jupyter-widgets/controls",
      "_model_module_version": "1.5.0",
      "_model_name": "DescriptionStyleModel",
      "_view_count": null,
      "_view_module": "@jupyter-widgets/base",
      "_view_module_version": "1.2.0",
      "_view_name": "StyleView",
      "description_width": ""
     }
    },
    "1859aef2e2184dfca6b64a83ddf9f7d6": {
     "model_module": "@jupyter-widgets/base",
     "model_module_version": "1.2.0",
     "model_name": "LayoutModel",
     "state": {
      "_model_module": "@jupyter-widgets/base",
      "_model_module_version": "1.2.0",
      "_model_name": "LayoutModel",
      "_view_count": null,
      "_view_module": "@jupyter-widgets/base",
      "_view_module_version": "1.2.0",
      "_view_name": "LayoutView",
      "align_content": null,
      "align_items": null,
      "align_self": null,
      "border": null,
      "bottom": null,
      "display": null,
      "flex": null,
      "flex_flow": null,
      "grid_area": null,
      "grid_auto_columns": null,
      "grid_auto_flow": null,
      "grid_auto_rows": null,
      "grid_column": null,
      "grid_gap": null,
      "grid_row": null,
      "grid_template_areas": null,
      "grid_template_columns": null,
      "grid_template_rows": null,
      "height": null,
      "justify_content": null,
      "justify_items": null,
      "left": null,
      "margin": null,
      "max_height": null,
      "max_width": null,
      "min_height": null,
      "min_width": null,
      "object_fit": null,
      "object_position": null,
      "order": null,
      "overflow": null,
      "overflow_x": null,
      "overflow_y": null,
      "padding": null,
      "right": null,
      "top": null,
      "visibility": null,
      "width": null
     }
    },
    "1c2597c6ae884cd290552d36df19c608": {
     "model_module": "@jupyter-widgets/base",
     "model_module_version": "1.2.0",
     "model_name": "LayoutModel",
     "state": {
      "_model_module": "@jupyter-widgets/base",
      "_model_module_version": "1.2.0",
      "_model_name": "LayoutModel",
      "_view_count": null,
      "_view_module": "@jupyter-widgets/base",
      "_view_module_version": "1.2.0",
      "_view_name": "LayoutView",
      "align_content": null,
      "align_items": null,
      "align_self": null,
      "border": null,
      "bottom": null,
      "display": null,
      "flex": null,
      "flex_flow": null,
      "grid_area": null,
      "grid_auto_columns": null,
      "grid_auto_flow": null,
      "grid_auto_rows": null,
      "grid_column": null,
      "grid_gap": null,
      "grid_row": null,
      "grid_template_areas": null,
      "grid_template_columns": null,
      "grid_template_rows": null,
      "height": null,
      "justify_content": null,
      "justify_items": null,
      "left": null,
      "margin": null,
      "max_height": null,
      "max_width": null,
      "min_height": null,
      "min_width": null,
      "object_fit": null,
      "object_position": null,
      "order": null,
      "overflow": null,
      "overflow_x": null,
      "overflow_y": null,
      "padding": null,
      "right": null,
      "top": null,
      "visibility": null,
      "width": null
     }
    },
    "1fb26b54f88043fa95a58a164d40df60": {
     "model_module": "@jupyter-widgets/controls",
     "model_module_version": "1.5.0",
     "model_name": "HTMLModel",
     "state": {
      "_dom_classes": [],
      "_model_module": "@jupyter-widgets/controls",
      "_model_module_version": "1.5.0",
      "_model_name": "HTMLModel",
      "_view_count": null,
      "_view_module": "@jupyter-widgets/controls",
      "_view_module_version": "1.5.0",
      "_view_name": "HTMLView",
      "description": "",
      "description_tooltip": null,
      "layout": "IPY_MODEL_443906b44e634e70a4cd77641156a56c",
      "placeholder": "​",
      "style": "IPY_MODEL_c0862a92f1d44765a072b8f52fd85d12",
      "value": " 79/79 [00:04&lt;00:00, 19.15it/s]"
     }
    },
    "1fcbe951a7844621a9a02f5128aaf5ac": {
     "model_module": "@jupyter-widgets/base",
     "model_module_version": "1.2.0",
     "model_name": "LayoutModel",
     "state": {
      "_model_module": "@jupyter-widgets/base",
      "_model_module_version": "1.2.0",
      "_model_name": "LayoutModel",
      "_view_count": null,
      "_view_module": "@jupyter-widgets/base",
      "_view_module_version": "1.2.0",
      "_view_name": "LayoutView",
      "align_content": null,
      "align_items": null,
      "align_self": null,
      "border": null,
      "bottom": null,
      "display": null,
      "flex": null,
      "flex_flow": null,
      "grid_area": null,
      "grid_auto_columns": null,
      "grid_auto_flow": null,
      "grid_auto_rows": null,
      "grid_column": null,
      "grid_gap": null,
      "grid_row": null,
      "grid_template_areas": null,
      "grid_template_columns": null,
      "grid_template_rows": null,
      "height": null,
      "justify_content": null,
      "justify_items": null,
      "left": null,
      "margin": null,
      "max_height": null,
      "max_width": null,
      "min_height": null,
      "min_width": null,
      "object_fit": null,
      "object_position": null,
      "order": null,
      "overflow": null,
      "overflow_x": null,
      "overflow_y": null,
      "padding": null,
      "right": null,
      "top": null,
      "visibility": null,
      "width": null
     }
    },
    "20ed92664e4747a9a07cabfc1668ab4c": {
     "model_module": "@jupyter-widgets/controls",
     "model_module_version": "1.5.0",
     "model_name": "HBoxModel",
     "state": {
      "_dom_classes": [],
      "_model_module": "@jupyter-widgets/controls",
      "_model_module_version": "1.5.0",
      "_model_name": "HBoxModel",
      "_view_count": null,
      "_view_module": "@jupyter-widgets/controls",
      "_view_module_version": "1.5.0",
      "_view_name": "HBoxView",
      "box_style": "",
      "children": [
       "IPY_MODEL_d5064b6da60f4d9ab8016e978fa0c18e",
       "IPY_MODEL_e8a6f12fa0e04c50a29b1f166b296c30",
       "IPY_MODEL_c844ffc45eb141d3a0721e97f9e1d6e1"
      ],
      "layout": "IPY_MODEL_f2aca42744854c47920cd371b11cdb24"
     }
    },
    "26700c2da7ca45bb877639c662760ad8": {
     "model_module": "@jupyter-widgets/controls",
     "model_module_version": "1.5.0",
     "model_name": "HTMLModel",
     "state": {
      "_dom_classes": [],
      "_model_module": "@jupyter-widgets/controls",
      "_model_module_version": "1.5.0",
      "_model_name": "HTMLModel",
      "_view_count": null,
      "_view_module": "@jupyter-widgets/controls",
      "_view_module_version": "1.5.0",
      "_view_name": "HTMLView",
      "description": "",
      "description_tooltip": null,
      "layout": "IPY_MODEL_1c2597c6ae884cd290552d36df19c608",
      "placeholder": "​",
      "style": "IPY_MODEL_4553138c3f8b48fa89057d16028f7dfa",
      "value": " 313/313 [00:20&lt;00:00, 18.81it/s]"
     }
    },
    "29cfc300ab6a48e99fdffbcc2f25a145": {
     "model_module": "@jupyter-widgets/base",
     "model_module_version": "1.2.0",
     "model_name": "LayoutModel",
     "state": {
      "_model_module": "@jupyter-widgets/base",
      "_model_module_version": "1.2.0",
      "_model_name": "LayoutModel",
      "_view_count": null,
      "_view_module": "@jupyter-widgets/base",
      "_view_module_version": "1.2.0",
      "_view_name": "LayoutView",
      "align_content": null,
      "align_items": null,
      "align_self": null,
      "border": null,
      "bottom": null,
      "display": null,
      "flex": null,
      "flex_flow": null,
      "grid_area": null,
      "grid_auto_columns": null,
      "grid_auto_flow": null,
      "grid_auto_rows": null,
      "grid_column": null,
      "grid_gap": null,
      "grid_row": null,
      "grid_template_areas": null,
      "grid_template_columns": null,
      "grid_template_rows": null,
      "height": null,
      "justify_content": null,
      "justify_items": null,
      "left": null,
      "margin": null,
      "max_height": null,
      "max_width": null,
      "min_height": null,
      "min_width": null,
      "object_fit": null,
      "object_position": null,
      "order": null,
      "overflow": null,
      "overflow_x": null,
      "overflow_y": null,
      "padding": null,
      "right": null,
      "top": null,
      "visibility": null,
      "width": null
     }
    },
    "2ac90d8aa78147d195acbbd266d1ff01": {
     "model_module": "@jupyter-widgets/controls",
     "model_module_version": "1.5.0",
     "model_name": "HBoxModel",
     "state": {
      "_dom_classes": [],
      "_model_module": "@jupyter-widgets/controls",
      "_model_module_version": "1.5.0",
      "_model_name": "HBoxModel",
      "_view_count": null,
      "_view_module": "@jupyter-widgets/controls",
      "_view_module_version": "1.5.0",
      "_view_name": "HBoxView",
      "box_style": "",
      "children": [
       "IPY_MODEL_aa2898baefdd44d998bf7ccb80c0f589",
       "IPY_MODEL_be7442689343490abc18d7fc0673d94c",
       "IPY_MODEL_89d590a4d89343f9afeaa9a796b6b1b6"
      ],
      "layout": "IPY_MODEL_cf1d5fef56b0466db94392397adbdc65"
     }
    },
    "2dd5e704ed3b401398a05af91a0a585d": {
     "model_module": "@jupyter-widgets/controls",
     "model_module_version": "1.5.0",
     "model_name": "HTMLModel",
     "state": {
      "_dom_classes": [],
      "_model_module": "@jupyter-widgets/controls",
      "_model_module_version": "1.5.0",
      "_model_name": "HTMLModel",
      "_view_count": null,
      "_view_module": "@jupyter-widgets/controls",
      "_view_module_version": "1.5.0",
      "_view_name": "HTMLView",
      "description": "",
      "description_tooltip": null,
      "layout": "IPY_MODEL_41a44c76447b428291071868955c898e",
      "placeholder": "​",
      "style": "IPY_MODEL_4d8a36e3537d41569ebc111620fe392a",
      "value": "100%"
     }
    },
    "330c056a948e44aaade4ee7eb416e1a7": {
     "model_module": "@jupyter-widgets/base",
     "model_module_version": "1.2.0",
     "model_name": "LayoutModel",
     "state": {
      "_model_module": "@jupyter-widgets/base",
      "_model_module_version": "1.2.0",
      "_model_name": "LayoutModel",
      "_view_count": null,
      "_view_module": "@jupyter-widgets/base",
      "_view_module_version": "1.2.0",
      "_view_name": "LayoutView",
      "align_content": null,
      "align_items": null,
      "align_self": null,
      "border": null,
      "bottom": null,
      "display": null,
      "flex": null,
      "flex_flow": null,
      "grid_area": null,
      "grid_auto_columns": null,
      "grid_auto_flow": null,
      "grid_auto_rows": null,
      "grid_column": null,
      "grid_gap": null,
      "grid_row": null,
      "grid_template_areas": null,
      "grid_template_columns": null,
      "grid_template_rows": null,
      "height": null,
      "justify_content": null,
      "justify_items": null,
      "left": null,
      "margin": null,
      "max_height": null,
      "max_width": null,
      "min_height": null,
      "min_width": null,
      "object_fit": null,
      "object_position": null,
      "order": null,
      "overflow": null,
      "overflow_x": null,
      "overflow_y": null,
      "padding": null,
      "right": null,
      "top": null,
      "visibility": null,
      "width": null
     }
    },
    "37d3633e337646488590ad7e7eb782d9": {
     "model_module": "@jupyter-widgets/controls",
     "model_module_version": "1.5.0",
     "model_name": "ProgressStyleModel",
     "state": {
      "_model_module": "@jupyter-widgets/controls",
      "_model_module_version": "1.5.0",
      "_model_name": "ProgressStyleModel",
      "_view_count": null,
      "_view_module": "@jupyter-widgets/base",
      "_view_module_version": "1.2.0",
      "_view_name": "StyleView",
      "bar_color": null,
      "description_width": ""
     }
    },
    "39dfa0bb24d54c898dd4fe90d1735e33": {
     "model_module": "@jupyter-widgets/controls",
     "model_module_version": "1.5.0",
     "model_name": "HBoxModel",
     "state": {
      "_dom_classes": [],
      "_model_module": "@jupyter-widgets/controls",
      "_model_module_version": "1.5.0",
      "_model_name": "HBoxModel",
      "_view_count": null,
      "_view_module": "@jupyter-widgets/controls",
      "_view_module_version": "1.5.0",
      "_view_name": "HBoxView",
      "box_style": "",
      "children": [
       "IPY_MODEL_4121cf32d4c1417f8f27b28c41fa286e",
       "IPY_MODEL_83de466a12d84d8da2648be2a67ffb38",
       "IPY_MODEL_ac7bc944de034fcd8f28536ce67a21f5"
      ],
      "layout": "IPY_MODEL_c869399a6d02400b9d282af61785c848"
     }
    },
    "3e6288986a02407cacf57b81077af422": {
     "model_module": "@jupyter-widgets/base",
     "model_module_version": "1.2.0",
     "model_name": "LayoutModel",
     "state": {
      "_model_module": "@jupyter-widgets/base",
      "_model_module_version": "1.2.0",
      "_model_name": "LayoutModel",
      "_view_count": null,
      "_view_module": "@jupyter-widgets/base",
      "_view_module_version": "1.2.0",
      "_view_name": "LayoutView",
      "align_content": null,
      "align_items": null,
      "align_self": null,
      "border": null,
      "bottom": null,
      "display": null,
      "flex": null,
      "flex_flow": null,
      "grid_area": null,
      "grid_auto_columns": null,
      "grid_auto_flow": null,
      "grid_auto_rows": null,
      "grid_column": null,
      "grid_gap": null,
      "grid_row": null,
      "grid_template_areas": null,
      "grid_template_columns": null,
      "grid_template_rows": null,
      "height": null,
      "justify_content": null,
      "justify_items": null,
      "left": null,
      "margin": null,
      "max_height": null,
      "max_width": null,
      "min_height": null,
      "min_width": null,
      "object_fit": null,
      "object_position": null,
      "order": null,
      "overflow": null,
      "overflow_x": null,
      "overflow_y": null,
      "padding": null,
      "right": null,
      "top": null,
      "visibility": null,
      "width": null
     }
    },
    "3f5e83ee9fed4a5f90ecc479a6ded833": {
     "model_module": "@jupyter-widgets/controls",
     "model_module_version": "1.5.0",
     "model_name": "HTMLModel",
     "state": {
      "_dom_classes": [],
      "_model_module": "@jupyter-widgets/controls",
      "_model_module_version": "1.5.0",
      "_model_name": "HTMLModel",
      "_view_count": null,
      "_view_module": "@jupyter-widgets/controls",
      "_view_module_version": "1.5.0",
      "_view_name": "HTMLView",
      "description": "",
      "description_tooltip": null,
      "layout": "IPY_MODEL_1fcbe951a7844621a9a02f5128aaf5ac",
      "placeholder": "​",
      "style": "IPY_MODEL_963c98b6787b4d50ae37810890645e54",
      "value": " 313/313 [00:16&lt;00:00, 20.37it/s]"
     }
    },
    "4121cf32d4c1417f8f27b28c41fa286e": {
     "model_module": "@jupyter-widgets/controls",
     "model_module_version": "1.5.0",
     "model_name": "HTMLModel",
     "state": {
      "_dom_classes": [],
      "_model_module": "@jupyter-widgets/controls",
      "_model_module_version": "1.5.0",
      "_model_name": "HTMLModel",
      "_view_count": null,
      "_view_module": "@jupyter-widgets/controls",
      "_view_module_version": "1.5.0",
      "_view_name": "HTMLView",
      "description": "",
      "description_tooltip": null,
      "layout": "IPY_MODEL_df304e2c04214f43b90511064f0207d2",
      "placeholder": "​",
      "style": "IPY_MODEL_f810efee20dd4ba6b296f841097854eb",
      "value": "100%"
     }
    },
    "41a44c76447b428291071868955c898e": {
     "model_module": "@jupyter-widgets/base",
     "model_module_version": "1.2.0",
     "model_name": "LayoutModel",
     "state": {
      "_model_module": "@jupyter-widgets/base",
      "_model_module_version": "1.2.0",
      "_model_name": "LayoutModel",
      "_view_count": null,
      "_view_module": "@jupyter-widgets/base",
      "_view_module_version": "1.2.0",
      "_view_name": "LayoutView",
      "align_content": null,
      "align_items": null,
      "align_self": null,
      "border": null,
      "bottom": null,
      "display": null,
      "flex": null,
      "flex_flow": null,
      "grid_area": null,
      "grid_auto_columns": null,
      "grid_auto_flow": null,
      "grid_auto_rows": null,
      "grid_column": null,
      "grid_gap": null,
      "grid_row": null,
      "grid_template_areas": null,
      "grid_template_columns": null,
      "grid_template_rows": null,
      "height": null,
      "justify_content": null,
      "justify_items": null,
      "left": null,
      "margin": null,
      "max_height": null,
      "max_width": null,
      "min_height": null,
      "min_width": null,
      "object_fit": null,
      "object_position": null,
      "order": null,
      "overflow": null,
      "overflow_x": null,
      "overflow_y": null,
      "padding": null,
      "right": null,
      "top": null,
      "visibility": null,
      "width": null
     }
    },
    "443906b44e634e70a4cd77641156a56c": {
     "model_module": "@jupyter-widgets/base",
     "model_module_version": "1.2.0",
     "model_name": "LayoutModel",
     "state": {
      "_model_module": "@jupyter-widgets/base",
      "_model_module_version": "1.2.0",
      "_model_name": "LayoutModel",
      "_view_count": null,
      "_view_module": "@jupyter-widgets/base",
      "_view_module_version": "1.2.0",
      "_view_name": "LayoutView",
      "align_content": null,
      "align_items": null,
      "align_self": null,
      "border": null,
      "bottom": null,
      "display": null,
      "flex": null,
      "flex_flow": null,
      "grid_area": null,
      "grid_auto_columns": null,
      "grid_auto_flow": null,
      "grid_auto_rows": null,
      "grid_column": null,
      "grid_gap": null,
      "grid_row": null,
      "grid_template_areas": null,
      "grid_template_columns": null,
      "grid_template_rows": null,
      "height": null,
      "justify_content": null,
      "justify_items": null,
      "left": null,
      "margin": null,
      "max_height": null,
      "max_width": null,
      "min_height": null,
      "min_width": null,
      "object_fit": null,
      "object_position": null,
      "order": null,
      "overflow": null,
      "overflow_x": null,
      "overflow_y": null,
      "padding": null,
      "right": null,
      "top": null,
      "visibility": null,
      "width": null
     }
    },
    "4553138c3f8b48fa89057d16028f7dfa": {
     "model_module": "@jupyter-widgets/controls",
     "model_module_version": "1.5.0",
     "model_name": "DescriptionStyleModel",
     "state": {
      "_model_module": "@jupyter-widgets/controls",
      "_model_module_version": "1.5.0",
      "_model_name": "DescriptionStyleModel",
      "_view_count": null,
      "_view_module": "@jupyter-widgets/base",
      "_view_module_version": "1.2.0",
      "_view_name": "StyleView",
      "description_width": ""
     }
    },
    "4d8a36e3537d41569ebc111620fe392a": {
     "model_module": "@jupyter-widgets/controls",
     "model_module_version": "1.5.0",
     "model_name": "DescriptionStyleModel",
     "state": {
      "_model_module": "@jupyter-widgets/controls",
      "_model_module_version": "1.5.0",
      "_model_name": "DescriptionStyleModel",
      "_view_count": null,
      "_view_module": "@jupyter-widgets/base",
      "_view_module_version": "1.2.0",
      "_view_name": "StyleView",
      "description_width": ""
     }
    },
    "547a13ac57804c32b15d776ad158adcd": {
     "model_module": "@jupyter-widgets/controls",
     "model_module_version": "1.5.0",
     "model_name": "FloatProgressModel",
     "state": {
      "_dom_classes": [],
      "_model_module": "@jupyter-widgets/controls",
      "_model_module_version": "1.5.0",
      "_model_name": "FloatProgressModel",
      "_view_count": null,
      "_view_module": "@jupyter-widgets/controls",
      "_view_module_version": "1.5.0",
      "_view_name": "ProgressView",
      "bar_style": "success",
      "description": "",
      "description_tooltip": null,
      "layout": "IPY_MODEL_7903cbff41db420eb809eef1a6b341c5",
      "max": 313,
      "min": 0,
      "orientation": "horizontal",
      "style": "IPY_MODEL_37d3633e337646488590ad7e7eb782d9",
      "value": 313
     }
    },
    "573444e3f4c64a5696c83de0495b3487": {
     "model_module": "@jupyter-widgets/controls",
     "model_module_version": "1.5.0",
     "model_name": "ProgressStyleModel",
     "state": {
      "_model_module": "@jupyter-widgets/controls",
      "_model_module_version": "1.5.0",
      "_model_name": "ProgressStyleModel",
      "_view_count": null,
      "_view_module": "@jupyter-widgets/base",
      "_view_module_version": "1.2.0",
      "_view_name": "StyleView",
      "bar_color": null,
      "description_width": ""
     }
    },
    "5a6176bcadcb4546894c449a1f5d7a8d": {
     "model_module": "@jupyter-widgets/base",
     "model_module_version": "1.2.0",
     "model_name": "LayoutModel",
     "state": {
      "_model_module": "@jupyter-widgets/base",
      "_model_module_version": "1.2.0",
      "_model_name": "LayoutModel",
      "_view_count": null,
      "_view_module": "@jupyter-widgets/base",
      "_view_module_version": "1.2.0",
      "_view_name": "LayoutView",
      "align_content": null,
      "align_items": null,
      "align_self": null,
      "border": null,
      "bottom": null,
      "display": null,
      "flex": null,
      "flex_flow": null,
      "grid_area": null,
      "grid_auto_columns": null,
      "grid_auto_flow": null,
      "grid_auto_rows": null,
      "grid_column": null,
      "grid_gap": null,
      "grid_row": null,
      "grid_template_areas": null,
      "grid_template_columns": null,
      "grid_template_rows": null,
      "height": null,
      "justify_content": null,
      "justify_items": null,
      "left": null,
      "margin": null,
      "max_height": null,
      "max_width": null,
      "min_height": null,
      "min_width": null,
      "object_fit": null,
      "object_position": null,
      "order": null,
      "overflow": null,
      "overflow_x": null,
      "overflow_y": null,
      "padding": null,
      "right": null,
      "top": null,
      "visibility": null,
      "width": null
     }
    },
    "5b0cfa5221bb4a69ba7d53a61cc7f623": {
     "model_module": "@jupyter-widgets/base",
     "model_module_version": "1.2.0",
     "model_name": "LayoutModel",
     "state": {
      "_model_module": "@jupyter-widgets/base",
      "_model_module_version": "1.2.0",
      "_model_name": "LayoutModel",
      "_view_count": null,
      "_view_module": "@jupyter-widgets/base",
      "_view_module_version": "1.2.0",
      "_view_name": "LayoutView",
      "align_content": null,
      "align_items": null,
      "align_self": null,
      "border": null,
      "bottom": null,
      "display": null,
      "flex": null,
      "flex_flow": null,
      "grid_area": null,
      "grid_auto_columns": null,
      "grid_auto_flow": null,
      "grid_auto_rows": null,
      "grid_column": null,
      "grid_gap": null,
      "grid_row": null,
      "grid_template_areas": null,
      "grid_template_columns": null,
      "grid_template_rows": null,
      "height": null,
      "justify_content": null,
      "justify_items": null,
      "left": null,
      "margin": null,
      "max_height": null,
      "max_width": null,
      "min_height": null,
      "min_width": null,
      "object_fit": null,
      "object_position": null,
      "order": null,
      "overflow": null,
      "overflow_x": null,
      "overflow_y": null,
      "padding": null,
      "right": null,
      "top": null,
      "visibility": null,
      "width": null
     }
    },
    "5f40259d18ac430eb67660ac3563cfdc": {
     "model_module": "@jupyter-widgets/base",
     "model_module_version": "1.2.0",
     "model_name": "LayoutModel",
     "state": {
      "_model_module": "@jupyter-widgets/base",
      "_model_module_version": "1.2.0",
      "_model_name": "LayoutModel",
      "_view_count": null,
      "_view_module": "@jupyter-widgets/base",
      "_view_module_version": "1.2.0",
      "_view_name": "LayoutView",
      "align_content": null,
      "align_items": null,
      "align_self": null,
      "border": null,
      "bottom": null,
      "display": null,
      "flex": null,
      "flex_flow": null,
      "grid_area": null,
      "grid_auto_columns": null,
      "grid_auto_flow": null,
      "grid_auto_rows": null,
      "grid_column": null,
      "grid_gap": null,
      "grid_row": null,
      "grid_template_areas": null,
      "grid_template_columns": null,
      "grid_template_rows": null,
      "height": null,
      "justify_content": null,
      "justify_items": null,
      "left": null,
      "margin": null,
      "max_height": null,
      "max_width": null,
      "min_height": null,
      "min_width": null,
      "object_fit": null,
      "object_position": null,
      "order": null,
      "overflow": null,
      "overflow_x": null,
      "overflow_y": null,
      "padding": null,
      "right": null,
      "top": null,
      "visibility": null,
      "width": null
     }
    },
    "6fbf9ae61aab407aba86665210b579d1": {
     "model_module": "@jupyter-widgets/controls",
     "model_module_version": "1.5.0",
     "model_name": "ProgressStyleModel",
     "state": {
      "_model_module": "@jupyter-widgets/controls",
      "_model_module_version": "1.5.0",
      "_model_name": "ProgressStyleModel",
      "_view_count": null,
      "_view_module": "@jupyter-widgets/base",
      "_view_module_version": "1.2.0",
      "_view_name": "StyleView",
      "bar_color": null,
      "description_width": ""
     }
    },
    "72b82672bc6e4a81a8c41c1524a1af17": {
     "model_module": "@jupyter-widgets/base",
     "model_module_version": "1.2.0",
     "model_name": "LayoutModel",
     "state": {
      "_model_module": "@jupyter-widgets/base",
      "_model_module_version": "1.2.0",
      "_model_name": "LayoutModel",
      "_view_count": null,
      "_view_module": "@jupyter-widgets/base",
      "_view_module_version": "1.2.0",
      "_view_name": "LayoutView",
      "align_content": null,
      "align_items": null,
      "align_self": null,
      "border": null,
      "bottom": null,
      "display": null,
      "flex": null,
      "flex_flow": null,
      "grid_area": null,
      "grid_auto_columns": null,
      "grid_auto_flow": null,
      "grid_auto_rows": null,
      "grid_column": null,
      "grid_gap": null,
      "grid_row": null,
      "grid_template_areas": null,
      "grid_template_columns": null,
      "grid_template_rows": null,
      "height": null,
      "justify_content": null,
      "justify_items": null,
      "left": null,
      "margin": null,
      "max_height": null,
      "max_width": null,
      "min_height": null,
      "min_width": null,
      "object_fit": null,
      "object_position": null,
      "order": null,
      "overflow": null,
      "overflow_x": null,
      "overflow_y": null,
      "padding": null,
      "right": null,
      "top": null,
      "visibility": null,
      "width": null
     }
    },
    "742342896db943ecb0ef59f085edc770": {
     "model_module": "@jupyter-widgets/controls",
     "model_module_version": "1.5.0",
     "model_name": "DescriptionStyleModel",
     "state": {
      "_model_module": "@jupyter-widgets/controls",
      "_model_module_version": "1.5.0",
      "_model_name": "DescriptionStyleModel",
      "_view_count": null,
      "_view_module": "@jupyter-widgets/base",
      "_view_module_version": "1.2.0",
      "_view_name": "StyleView",
      "description_width": ""
     }
    },
    "767f4445cbf44881b1064db268bf0a48": {
     "model_module": "@jupyter-widgets/controls",
     "model_module_version": "1.5.0",
     "model_name": "HTMLModel",
     "state": {
      "_dom_classes": [],
      "_model_module": "@jupyter-widgets/controls",
      "_model_module_version": "1.5.0",
      "_model_name": "HTMLModel",
      "_view_count": null,
      "_view_module": "@jupyter-widgets/controls",
      "_view_module_version": "1.5.0",
      "_view_name": "HTMLView",
      "description": "",
      "description_tooltip": null,
      "layout": "IPY_MODEL_c2b457ee25dd4d9f89ff4897882cdabb",
      "placeholder": "​",
      "style": "IPY_MODEL_ff62083a090a459e82d4b40b8886cf04",
      "value": "100%"
     }
    },
    "7903cbff41db420eb809eef1a6b341c5": {
     "model_module": "@jupyter-widgets/base",
     "model_module_version": "1.2.0",
     "model_name": "LayoutModel",
     "state": {
      "_model_module": "@jupyter-widgets/base",
      "_model_module_version": "1.2.0",
      "_model_name": "LayoutModel",
      "_view_count": null,
      "_view_module": "@jupyter-widgets/base",
      "_view_module_version": "1.2.0",
      "_view_name": "LayoutView",
      "align_content": null,
      "align_items": null,
      "align_self": null,
      "border": null,
      "bottom": null,
      "display": null,
      "flex": null,
      "flex_flow": null,
      "grid_area": null,
      "grid_auto_columns": null,
      "grid_auto_flow": null,
      "grid_auto_rows": null,
      "grid_column": null,
      "grid_gap": null,
      "grid_row": null,
      "grid_template_areas": null,
      "grid_template_columns": null,
      "grid_template_rows": null,
      "height": null,
      "justify_content": null,
      "justify_items": null,
      "left": null,
      "margin": null,
      "max_height": null,
      "max_width": null,
      "min_height": null,
      "min_width": null,
      "object_fit": null,
      "object_position": null,
      "order": null,
      "overflow": null,
      "overflow_x": null,
      "overflow_y": null,
      "padding": null,
      "right": null,
      "top": null,
      "visibility": null,
      "width": null
     }
    },
    "7deb9bb107d643779162ef914c97840c": {
     "model_module": "@jupyter-widgets/controls",
     "model_module_version": "1.5.0",
     "model_name": "HBoxModel",
     "state": {
      "_dom_classes": [],
      "_model_module": "@jupyter-widgets/controls",
      "_model_module_version": "1.5.0",
      "_model_name": "HBoxModel",
      "_view_count": null,
      "_view_module": "@jupyter-widgets/controls",
      "_view_module_version": "1.5.0",
      "_view_name": "HBoxView",
      "box_style": "",
      "children": [
       "IPY_MODEL_2dd5e704ed3b401398a05af91a0a585d",
       "IPY_MODEL_b073153fa79048c7a5b56ab8caf6f461",
       "IPY_MODEL_1fb26b54f88043fa95a58a164d40df60"
      ],
      "layout": "IPY_MODEL_b080b85265b94cafbdb2c0e1da7235f2"
     }
    },
    "7ebd73ab1eee4a4b98396871850964cd": {
     "model_module": "@jupyter-widgets/base",
     "model_module_version": "1.2.0",
     "model_name": "LayoutModel",
     "state": {
      "_model_module": "@jupyter-widgets/base",
      "_model_module_version": "1.2.0",
      "_model_name": "LayoutModel",
      "_view_count": null,
      "_view_module": "@jupyter-widgets/base",
      "_view_module_version": "1.2.0",
      "_view_name": "LayoutView",
      "align_content": null,
      "align_items": null,
      "align_self": null,
      "border": null,
      "bottom": null,
      "display": null,
      "flex": null,
      "flex_flow": null,
      "grid_area": null,
      "grid_auto_columns": null,
      "grid_auto_flow": null,
      "grid_auto_rows": null,
      "grid_column": null,
      "grid_gap": null,
      "grid_row": null,
      "grid_template_areas": null,
      "grid_template_columns": null,
      "grid_template_rows": null,
      "height": null,
      "justify_content": null,
      "justify_items": null,
      "left": null,
      "margin": null,
      "max_height": null,
      "max_width": null,
      "min_height": null,
      "min_width": null,
      "object_fit": null,
      "object_position": null,
      "order": null,
      "overflow": null,
      "overflow_x": null,
      "overflow_y": null,
      "padding": null,
      "right": null,
      "top": null,
      "visibility": null,
      "width": null
     }
    },
    "83de466a12d84d8da2648be2a67ffb38": {
     "model_module": "@jupyter-widgets/controls",
     "model_module_version": "1.5.0",
     "model_name": "FloatProgressModel",
     "state": {
      "_dom_classes": [],
      "_model_module": "@jupyter-widgets/controls",
      "_model_module_version": "1.5.0",
      "_model_name": "FloatProgressModel",
      "_view_count": null,
      "_view_module": "@jupyter-widgets/controls",
      "_view_module_version": "1.5.0",
      "_view_name": "ProgressView",
      "bar_style": "success",
      "description": "",
      "description_tooltip": null,
      "layout": "IPY_MODEL_c244d6cb67ca4d008dadce4050afc05f",
      "max": 79,
      "min": 0,
      "orientation": "horizontal",
      "style": "IPY_MODEL_adf7a489e42444e4b4597cf3b21d274c",
      "value": 79
     }
    },
    "89d590a4d89343f9afeaa9a796b6b1b6": {
     "model_module": "@jupyter-widgets/controls",
     "model_module_version": "1.5.0",
     "model_name": "HTMLModel",
     "state": {
      "_dom_classes": [],
      "_model_module": "@jupyter-widgets/controls",
      "_model_module_version": "1.5.0",
      "_model_name": "HTMLModel",
      "_view_count": null,
      "_view_module": "@jupyter-widgets/controls",
      "_view_module_version": "1.5.0",
      "_view_name": "HTMLView",
      "description": "",
      "description_tooltip": null,
      "layout": "IPY_MODEL_5f40259d18ac430eb67660ac3563cfdc",
      "placeholder": "​",
      "style": "IPY_MODEL_bdb0d60135a4495f810b7ee95bdb22f7",
      "value": " 3/3 [01:09&lt;00:00, 23.48s/it]"
     }
    },
    "8ba0205aebeb4c3d81ce9ed5c23e26ce": {
     "model_module": "@jupyter-widgets/controls",
     "model_module_version": "1.5.0",
     "model_name": "HTMLModel",
     "state": {
      "_dom_classes": [],
      "_model_module": "@jupyter-widgets/controls",
      "_model_module_version": "1.5.0",
      "_model_name": "HTMLModel",
      "_view_count": null,
      "_view_module": "@jupyter-widgets/controls",
      "_view_module_version": "1.5.0",
      "_view_name": "HTMLView",
      "description": "",
      "description_tooltip": null,
      "layout": "IPY_MODEL_7ebd73ab1eee4a4b98396871850964cd",
      "placeholder": "​",
      "style": "IPY_MODEL_a784da45b4de42c9ba13d3ee9f0ff798",
      "value": "100%"
     }
    },
    "8e74ffcf497d4a34a9b27146f3b61c27": {
     "model_module": "@jupyter-widgets/controls",
     "model_module_version": "1.5.0",
     "model_name": "FloatProgressModel",
     "state": {
      "_dom_classes": [],
      "_model_module": "@jupyter-widgets/controls",
      "_model_module_version": "1.5.0",
      "_model_name": "FloatProgressModel",
      "_view_count": null,
      "_view_module": "@jupyter-widgets/controls",
      "_view_module_version": "1.5.0",
      "_view_name": "ProgressView",
      "bar_style": "success",
      "description": "",
      "description_tooltip": null,
      "layout": "IPY_MODEL_d7eee2ea842846148dbd9ba19224d753",
      "max": 313,
      "min": 0,
      "orientation": "horizontal",
      "style": "IPY_MODEL_e96a4b0d32c04ad2be4a4015d567e7e3",
      "value": 313
     }
    },
    "95df8b3c4082496d8db9da9d09068da6": {
     "model_module": "@jupyter-widgets/base",
     "model_module_version": "1.2.0",
     "model_name": "LayoutModel",
     "state": {
      "_model_module": "@jupyter-widgets/base",
      "_model_module_version": "1.2.0",
      "_model_name": "LayoutModel",
      "_view_count": null,
      "_view_module": "@jupyter-widgets/base",
      "_view_module_version": "1.2.0",
      "_view_name": "LayoutView",
      "align_content": null,
      "align_items": null,
      "align_self": null,
      "border": null,
      "bottom": null,
      "display": null,
      "flex": null,
      "flex_flow": null,
      "grid_area": null,
      "grid_auto_columns": null,
      "grid_auto_flow": null,
      "grid_auto_rows": null,
      "grid_column": null,
      "grid_gap": null,
      "grid_row": null,
      "grid_template_areas": null,
      "grid_template_columns": null,
      "grid_template_rows": null,
      "height": null,
      "justify_content": null,
      "justify_items": null,
      "left": null,
      "margin": null,
      "max_height": null,
      "max_width": null,
      "min_height": null,
      "min_width": null,
      "object_fit": null,
      "object_position": null,
      "order": null,
      "overflow": null,
      "overflow_x": null,
      "overflow_y": null,
      "padding": null,
      "right": null,
      "top": null,
      "visibility": null,
      "width": null
     }
    },
    "963c98b6787b4d50ae37810890645e54": {
     "model_module": "@jupyter-widgets/controls",
     "model_module_version": "1.5.0",
     "model_name": "DescriptionStyleModel",
     "state": {
      "_model_module": "@jupyter-widgets/controls",
      "_model_module_version": "1.5.0",
      "_model_name": "DescriptionStyleModel",
      "_view_count": null,
      "_view_module": "@jupyter-widgets/base",
      "_view_module_version": "1.2.0",
      "_view_name": "StyleView",
      "description_width": ""
     }
    },
    "9b33e8ff77b440da87fe2aee8fbe8a6e": {
     "model_module": "@jupyter-widgets/controls",
     "model_module_version": "1.5.0",
     "model_name": "DescriptionStyleModel",
     "state": {
      "_model_module": "@jupyter-widgets/controls",
      "_model_module_version": "1.5.0",
      "_model_name": "DescriptionStyleModel",
      "_view_count": null,
      "_view_module": "@jupyter-widgets/base",
      "_view_module_version": "1.2.0",
      "_view_name": "StyleView",
      "description_width": ""
     }
    },
    "a654e93883f048e4a4e278e577a2a844": {
     "model_module": "@jupyter-widgets/controls",
     "model_module_version": "1.5.0",
     "model_name": "DescriptionStyleModel",
     "state": {
      "_model_module": "@jupyter-widgets/controls",
      "_model_module_version": "1.5.0",
      "_model_name": "DescriptionStyleModel",
      "_view_count": null,
      "_view_module": "@jupyter-widgets/base",
      "_view_module_version": "1.2.0",
      "_view_name": "StyleView",
      "description_width": ""
     }
    },
    "a784da45b4de42c9ba13d3ee9f0ff798": {
     "model_module": "@jupyter-widgets/controls",
     "model_module_version": "1.5.0",
     "model_name": "DescriptionStyleModel",
     "state": {
      "_model_module": "@jupyter-widgets/controls",
      "_model_module_version": "1.5.0",
      "_model_name": "DescriptionStyleModel",
      "_view_count": null,
      "_view_module": "@jupyter-widgets/base",
      "_view_module_version": "1.2.0",
      "_view_name": "StyleView",
      "description_width": ""
     }
    },
    "aa2898baefdd44d998bf7ccb80c0f589": {
     "model_module": "@jupyter-widgets/controls",
     "model_module_version": "1.5.0",
     "model_name": "HTMLModel",
     "state": {
      "_dom_classes": [],
      "_model_module": "@jupyter-widgets/controls",
      "_model_module_version": "1.5.0",
      "_model_name": "HTMLModel",
      "_view_count": null,
      "_view_module": "@jupyter-widgets/controls",
      "_view_module_version": "1.5.0",
      "_view_name": "HTMLView",
      "description": "",
      "description_tooltip": null,
      "layout": "IPY_MODEL_d57c38b6c3c246dfb009642c0a95643d",
      "placeholder": "​",
      "style": "IPY_MODEL_07353c98bd4244f88056f429fd41bb13",
      "value": "100%"
     }
    },
    "ac7bc944de034fcd8f28536ce67a21f5": {
     "model_module": "@jupyter-widgets/controls",
     "model_module_version": "1.5.0",
     "model_name": "HTMLModel",
     "state": {
      "_dom_classes": [],
      "_model_module": "@jupyter-widgets/controls",
      "_model_module_version": "1.5.0",
      "_model_name": "HTMLModel",
      "_view_count": null,
      "_view_module": "@jupyter-widgets/controls",
      "_view_module_version": "1.5.0",
      "_view_name": "HTMLView",
      "description": "",
      "description_tooltip": null,
      "layout": "IPY_MODEL_330c056a948e44aaade4ee7eb416e1a7",
      "placeholder": "​",
      "style": "IPY_MODEL_a654e93883f048e4a4e278e577a2a844",
      "value": " 79/79 [00:07&lt;00:00,  7.09it/s]"
     }
    },
    "adf7a489e42444e4b4597cf3b21d274c": {
     "model_module": "@jupyter-widgets/controls",
     "model_module_version": "1.5.0",
     "model_name": "ProgressStyleModel",
     "state": {
      "_model_module": "@jupyter-widgets/controls",
      "_model_module_version": "1.5.0",
      "_model_name": "ProgressStyleModel",
      "_view_count": null,
      "_view_module": "@jupyter-widgets/base",
      "_view_module_version": "1.2.0",
      "_view_name": "StyleView",
      "bar_color": null,
      "description_width": ""
     }
    },
    "afbb0f98ec2042ccadd04d267e87076c": {
     "model_module": "@jupyter-widgets/controls",
     "model_module_version": "1.5.0",
     "model_name": "HTMLModel",
     "state": {
      "_dom_classes": [],
      "_model_module": "@jupyter-widgets/controls",
      "_model_module_version": "1.5.0",
      "_model_name": "HTMLModel",
      "_view_count": null,
      "_view_module": "@jupyter-widgets/controls",
      "_view_module_version": "1.5.0",
      "_view_name": "HTMLView",
      "description": "",
      "description_tooltip": null,
      "layout": "IPY_MODEL_5b0cfa5221bb4a69ba7d53a61cc7f623",
      "placeholder": "​",
      "style": "IPY_MODEL_e80646756e364638aa7018c741ab1664",
      "value": " 79/79 [00:03&lt;00:00, 22.00it/s]"
     }
    },
    "b038276512384cff8763cc9f95d0dbaf": {
     "model_module": "@jupyter-widgets/controls",
     "model_module_version": "1.5.0",
     "model_name": "FloatProgressModel",
     "state": {
      "_dom_classes": [],
      "_model_module": "@jupyter-widgets/controls",
      "_model_module_version": "1.5.0",
      "_model_name": "FloatProgressModel",
      "_view_count": null,
      "_view_module": "@jupyter-widgets/controls",
      "_view_module_version": "1.5.0",
      "_view_name": "ProgressView",
      "bar_style": "success",
      "description": "",
      "description_tooltip": null,
      "layout": "IPY_MODEL_dfa1affb6c954a98adc55ce99923bd11",
      "max": 79,
      "min": 0,
      "orientation": "horizontal",
      "style": "IPY_MODEL_c8dc6f0890d04daea1226f8ab450daac",
      "value": 79
     }
    },
    "b073153fa79048c7a5b56ab8caf6f461": {
     "model_module": "@jupyter-widgets/controls",
     "model_module_version": "1.5.0",
     "model_name": "FloatProgressModel",
     "state": {
      "_dom_classes": [],
      "_model_module": "@jupyter-widgets/controls",
      "_model_module_version": "1.5.0",
      "_model_name": "FloatProgressModel",
      "_view_count": null,
      "_view_module": "@jupyter-widgets/controls",
      "_view_module_version": "1.5.0",
      "_view_name": "ProgressView",
      "bar_style": "success",
      "description": "",
      "description_tooltip": null,
      "layout": "IPY_MODEL_95df8b3c4082496d8db9da9d09068da6",
      "max": 79,
      "min": 0,
      "orientation": "horizontal",
      "style": "IPY_MODEL_6fbf9ae61aab407aba86665210b579d1",
      "value": 79
     }
    },
    "b080b85265b94cafbdb2c0e1da7235f2": {
     "model_module": "@jupyter-widgets/base",
     "model_module_version": "1.2.0",
     "model_name": "LayoutModel",
     "state": {
      "_model_module": "@jupyter-widgets/base",
      "_model_module_version": "1.2.0",
      "_model_name": "LayoutModel",
      "_view_count": null,
      "_view_module": "@jupyter-widgets/base",
      "_view_module_version": "1.2.0",
      "_view_name": "LayoutView",
      "align_content": null,
      "align_items": null,
      "align_self": null,
      "border": null,
      "bottom": null,
      "display": null,
      "flex": null,
      "flex_flow": null,
      "grid_area": null,
      "grid_auto_columns": null,
      "grid_auto_flow": null,
      "grid_auto_rows": null,
      "grid_column": null,
      "grid_gap": null,
      "grid_row": null,
      "grid_template_areas": null,
      "grid_template_columns": null,
      "grid_template_rows": null,
      "height": null,
      "justify_content": null,
      "justify_items": null,
      "left": null,
      "margin": null,
      "max_height": null,
      "max_width": null,
      "min_height": null,
      "min_width": null,
      "object_fit": null,
      "object_position": null,
      "order": null,
      "overflow": null,
      "overflow_x": null,
      "overflow_y": null,
      "padding": null,
      "right": null,
      "top": null,
      "visibility": null,
      "width": null
     }
    },
    "b2ce0b20f54e4c91a690bd54b0b0f85d": {
     "model_module": "@jupyter-widgets/controls",
     "model_module_version": "1.5.0",
     "model_name": "HTMLModel",
     "state": {
      "_dom_classes": [],
      "_model_module": "@jupyter-widgets/controls",
      "_model_module_version": "1.5.0",
      "_model_name": "HTMLModel",
      "_view_count": null,
      "_view_module": "@jupyter-widgets/controls",
      "_view_module_version": "1.5.0",
      "_view_name": "HTMLView",
      "description": "",
      "description_tooltip": null,
      "layout": "IPY_MODEL_dcca41fb984f4f6ea02d0598c83280b1",
      "placeholder": "​",
      "style": "IPY_MODEL_9b33e8ff77b440da87fe2aee8fbe8a6e",
      "value": "100%"
     }
    },
    "b4654c530226421a8ebeac6857dc87b5": {
     "model_module": "@jupyter-widgets/controls",
     "model_module_version": "1.5.0",
     "model_name": "HTMLModel",
     "state": {
      "_dom_classes": [],
      "_model_module": "@jupyter-widgets/controls",
      "_model_module_version": "1.5.0",
      "_model_name": "HTMLModel",
      "_view_count": null,
      "_view_module": "@jupyter-widgets/controls",
      "_view_module_version": "1.5.0",
      "_view_name": "HTMLView",
      "description": "",
      "description_tooltip": null,
      "layout": "IPY_MODEL_e661365a28f84260aad2db2076cbaf9f",
      "placeholder": "​",
      "style": "IPY_MODEL_742342896db943ecb0ef59f085edc770",
      "value": " 79/79 [00:03&lt;00:00, 20.21it/s]"
     }
    },
    "b8109b9d57024a65821ede608044fd2d": {
     "model_module": "@jupyter-widgets/controls",
     "model_module_version": "1.5.0",
     "model_name": "DescriptionStyleModel",
     "state": {
      "_model_module": "@jupyter-widgets/controls",
      "_model_module_version": "1.5.0",
      "_model_name": "DescriptionStyleModel",
      "_view_count": null,
      "_view_module": "@jupyter-widgets/base",
      "_view_module_version": "1.2.0",
      "_view_name": "StyleView",
      "description_width": ""
     }
    },
    "bdb0d60135a4495f810b7ee95bdb22f7": {
     "model_module": "@jupyter-widgets/controls",
     "model_module_version": "1.5.0",
     "model_name": "DescriptionStyleModel",
     "state": {
      "_model_module": "@jupyter-widgets/controls",
      "_model_module_version": "1.5.0",
      "_model_name": "DescriptionStyleModel",
      "_view_count": null,
      "_view_module": "@jupyter-widgets/base",
      "_view_module_version": "1.2.0",
      "_view_name": "StyleView",
      "description_width": ""
     }
    },
    "be7442689343490abc18d7fc0673d94c": {
     "model_module": "@jupyter-widgets/controls",
     "model_module_version": "1.5.0",
     "model_name": "FloatProgressModel",
     "state": {
      "_dom_classes": [],
      "_model_module": "@jupyter-widgets/controls",
      "_model_module_version": "1.5.0",
      "_model_name": "FloatProgressModel",
      "_view_count": null,
      "_view_module": "@jupyter-widgets/controls",
      "_view_module_version": "1.5.0",
      "_view_name": "ProgressView",
      "bar_style": "success",
      "description": "",
      "description_tooltip": null,
      "layout": "IPY_MODEL_de80250efbe84c87bbb14bba31ef0b18",
      "max": 3,
      "min": 0,
      "orientation": "horizontal",
      "style": "IPY_MODEL_573444e3f4c64a5696c83de0495b3487",
      "value": 3
     }
    },
    "c0862a92f1d44765a072b8f52fd85d12": {
     "model_module": "@jupyter-widgets/controls",
     "model_module_version": "1.5.0",
     "model_name": "DescriptionStyleModel",
     "state": {
      "_model_module": "@jupyter-widgets/controls",
      "_model_module_version": "1.5.0",
      "_model_name": "DescriptionStyleModel",
      "_view_count": null,
      "_view_module": "@jupyter-widgets/base",
      "_view_module_version": "1.2.0",
      "_view_name": "StyleView",
      "description_width": ""
     }
    },
    "c244d6cb67ca4d008dadce4050afc05f": {
     "model_module": "@jupyter-widgets/base",
     "model_module_version": "1.2.0",
     "model_name": "LayoutModel",
     "state": {
      "_model_module": "@jupyter-widgets/base",
      "_model_module_version": "1.2.0",
      "_model_name": "LayoutModel",
      "_view_count": null,
      "_view_module": "@jupyter-widgets/base",
      "_view_module_version": "1.2.0",
      "_view_name": "LayoutView",
      "align_content": null,
      "align_items": null,
      "align_self": null,
      "border": null,
      "bottom": null,
      "display": null,
      "flex": null,
      "flex_flow": null,
      "grid_area": null,
      "grid_auto_columns": null,
      "grid_auto_flow": null,
      "grid_auto_rows": null,
      "grid_column": null,
      "grid_gap": null,
      "grid_row": null,
      "grid_template_areas": null,
      "grid_template_columns": null,
      "grid_template_rows": null,
      "height": null,
      "justify_content": null,
      "justify_items": null,
      "left": null,
      "margin": null,
      "max_height": null,
      "max_width": null,
      "min_height": null,
      "min_width": null,
      "object_fit": null,
      "object_position": null,
      "order": null,
      "overflow": null,
      "overflow_x": null,
      "overflow_y": null,
      "padding": null,
      "right": null,
      "top": null,
      "visibility": null,
      "width": null
     }
    },
    "c2b457ee25dd4d9f89ff4897882cdabb": {
     "model_module": "@jupyter-widgets/base",
     "model_module_version": "1.2.0",
     "model_name": "LayoutModel",
     "state": {
      "_model_module": "@jupyter-widgets/base",
      "_model_module_version": "1.2.0",
      "_model_name": "LayoutModel",
      "_view_count": null,
      "_view_module": "@jupyter-widgets/base",
      "_view_module_version": "1.2.0",
      "_view_name": "LayoutView",
      "align_content": null,
      "align_items": null,
      "align_self": null,
      "border": null,
      "bottom": null,
      "display": null,
      "flex": null,
      "flex_flow": null,
      "grid_area": null,
      "grid_auto_columns": null,
      "grid_auto_flow": null,
      "grid_auto_rows": null,
      "grid_column": null,
      "grid_gap": null,
      "grid_row": null,
      "grid_template_areas": null,
      "grid_template_columns": null,
      "grid_template_rows": null,
      "height": null,
      "justify_content": null,
      "justify_items": null,
      "left": null,
      "margin": null,
      "max_height": null,
      "max_width": null,
      "min_height": null,
      "min_width": null,
      "object_fit": null,
      "object_position": null,
      "order": null,
      "overflow": null,
      "overflow_x": null,
      "overflow_y": null,
      "padding": null,
      "right": null,
      "top": null,
      "visibility": null,
      "width": null
     }
    },
    "c844ffc45eb141d3a0721e97f9e1d6e1": {
     "model_module": "@jupyter-widgets/controls",
     "model_module_version": "1.5.0",
     "model_name": "HTMLModel",
     "state": {
      "_dom_classes": [],
      "_model_module": "@jupyter-widgets/controls",
      "_model_module_version": "1.5.0",
      "_model_name": "HTMLModel",
      "_view_count": null,
      "_view_module": "@jupyter-widgets/controls",
      "_view_module_version": "1.5.0",
      "_view_name": "HTMLView",
      "description": "",
      "description_tooltip": null,
      "layout": "IPY_MODEL_063ae62c0819444e92f0cf4203b18080",
      "placeholder": "​",
      "style": "IPY_MODEL_11321f0dc62c4add849f8cdbd5703c82",
      "value": " 313/313 [00:16&lt;00:00, 18.77it/s]"
     }
    },
    "c869399a6d02400b9d282af61785c848": {
     "model_module": "@jupyter-widgets/base",
     "model_module_version": "1.2.0",
     "model_name": "LayoutModel",
     "state": {
      "_model_module": "@jupyter-widgets/base",
      "_model_module_version": "1.2.0",
      "_model_name": "LayoutModel",
      "_view_count": null,
      "_view_module": "@jupyter-widgets/base",
      "_view_module_version": "1.2.0",
      "_view_name": "LayoutView",
      "align_content": null,
      "align_items": null,
      "align_self": null,
      "border": null,
      "bottom": null,
      "display": null,
      "flex": null,
      "flex_flow": null,
      "grid_area": null,
      "grid_auto_columns": null,
      "grid_auto_flow": null,
      "grid_auto_rows": null,
      "grid_column": null,
      "grid_gap": null,
      "grid_row": null,
      "grid_template_areas": null,
      "grid_template_columns": null,
      "grid_template_rows": null,
      "height": null,
      "justify_content": null,
      "justify_items": null,
      "left": null,
      "margin": null,
      "max_height": null,
      "max_width": null,
      "min_height": null,
      "min_width": null,
      "object_fit": null,
      "object_position": null,
      "order": null,
      "overflow": null,
      "overflow_x": null,
      "overflow_y": null,
      "padding": null,
      "right": null,
      "top": null,
      "visibility": null,
      "width": null
     }
    },
    "c8dc6f0890d04daea1226f8ab450daac": {
     "model_module": "@jupyter-widgets/controls",
     "model_module_version": "1.5.0",
     "model_name": "ProgressStyleModel",
     "state": {
      "_model_module": "@jupyter-widgets/controls",
      "_model_module_version": "1.5.0",
      "_model_name": "ProgressStyleModel",
      "_view_count": null,
      "_view_module": "@jupyter-widgets/base",
      "_view_module_version": "1.2.0",
      "_view_name": "StyleView",
      "bar_color": null,
      "description_width": ""
     }
    },
    "c9115fd725144b4cb626cb0d986ef444": {
     "model_module": "@jupyter-widgets/controls",
     "model_module_version": "1.5.0",
     "model_name": "ProgressStyleModel",
     "state": {
      "_model_module": "@jupyter-widgets/controls",
      "_model_module_version": "1.5.0",
      "_model_name": "ProgressStyleModel",
      "_view_count": null,
      "_view_module": "@jupyter-widgets/base",
      "_view_module_version": "1.2.0",
      "_view_name": "StyleView",
      "bar_color": null,
      "description_width": ""
     }
    },
    "cb5de5ba3ac44337b999efcbfba37808": {
     "model_module": "@jupyter-widgets/base",
     "model_module_version": "1.2.0",
     "model_name": "LayoutModel",
     "state": {
      "_model_module": "@jupyter-widgets/base",
      "_model_module_version": "1.2.0",
      "_model_name": "LayoutModel",
      "_view_count": null,
      "_view_module": "@jupyter-widgets/base",
      "_view_module_version": "1.2.0",
      "_view_name": "LayoutView",
      "align_content": null,
      "align_items": null,
      "align_self": null,
      "border": null,
      "bottom": null,
      "display": null,
      "flex": null,
      "flex_flow": null,
      "grid_area": null,
      "grid_auto_columns": null,
      "grid_auto_flow": null,
      "grid_auto_rows": null,
      "grid_column": null,
      "grid_gap": null,
      "grid_row": null,
      "grid_template_areas": null,
      "grid_template_columns": null,
      "grid_template_rows": null,
      "height": null,
      "justify_content": null,
      "justify_items": null,
      "left": null,
      "margin": null,
      "max_height": null,
      "max_width": null,
      "min_height": null,
      "min_width": null,
      "object_fit": null,
      "object_position": null,
      "order": null,
      "overflow": null,
      "overflow_x": null,
      "overflow_y": null,
      "padding": null,
      "right": null,
      "top": null,
      "visibility": null,
      "width": null
     }
    },
    "cdc07de94bb54234a9ca9e760ef99ee7": {
     "model_module": "@jupyter-widgets/controls",
     "model_module_version": "1.5.0",
     "model_name": "FloatProgressModel",
     "state": {
      "_dom_classes": [],
      "_model_module": "@jupyter-widgets/controls",
      "_model_module_version": "1.5.0",
      "_model_name": "FloatProgressModel",
      "_view_count": null,
      "_view_module": "@jupyter-widgets/controls",
      "_view_module_version": "1.5.0",
      "_view_name": "ProgressView",
      "bar_style": "success",
      "description": "",
      "description_tooltip": null,
      "layout": "IPY_MODEL_3e6288986a02407cacf57b81077af422",
      "max": 79,
      "min": 0,
      "orientation": "horizontal",
      "style": "IPY_MODEL_c9115fd725144b4cb626cb0d986ef444",
      "value": 79
     }
    },
    "cf1d5fef56b0466db94392397adbdc65": {
     "model_module": "@jupyter-widgets/base",
     "model_module_version": "1.2.0",
     "model_name": "LayoutModel",
     "state": {
      "_model_module": "@jupyter-widgets/base",
      "_model_module_version": "1.2.0",
      "_model_name": "LayoutModel",
      "_view_count": null,
      "_view_module": "@jupyter-widgets/base",
      "_view_module_version": "1.2.0",
      "_view_name": "LayoutView",
      "align_content": null,
      "align_items": null,
      "align_self": null,
      "border": null,
      "bottom": null,
      "display": null,
      "flex": null,
      "flex_flow": null,
      "grid_area": null,
      "grid_auto_columns": null,
      "grid_auto_flow": null,
      "grid_auto_rows": null,
      "grid_column": null,
      "grid_gap": null,
      "grid_row": null,
      "grid_template_areas": null,
      "grid_template_columns": null,
      "grid_template_rows": null,
      "height": null,
      "justify_content": null,
      "justify_items": null,
      "left": null,
      "margin": null,
      "max_height": null,
      "max_width": null,
      "min_height": null,
      "min_width": null,
      "object_fit": null,
      "object_position": null,
      "order": null,
      "overflow": null,
      "overflow_x": null,
      "overflow_y": null,
      "padding": null,
      "right": null,
      "top": null,
      "visibility": null,
      "width": null
     }
    },
    "d157476665914d99aff4f5948d82babd": {
     "model_module": "@jupyter-widgets/controls",
     "model_module_version": "1.5.0",
     "model_name": "HBoxModel",
     "state": {
      "_dom_classes": [],
      "_model_module": "@jupyter-widgets/controls",
      "_model_module_version": "1.5.0",
      "_model_name": "HBoxModel",
      "_view_count": null,
      "_view_module": "@jupyter-widgets/controls",
      "_view_module_version": "1.5.0",
      "_view_name": "HBoxView",
      "box_style": "",
      "children": [
       "IPY_MODEL_b2ce0b20f54e4c91a690bd54b0b0f85d",
       "IPY_MODEL_8e74ffcf497d4a34a9b27146f3b61c27",
       "IPY_MODEL_3f5e83ee9fed4a5f90ecc479a6ded833"
      ],
      "layout": "IPY_MODEL_5a6176bcadcb4546894c449a1f5d7a8d"
     }
    },
    "d5064b6da60f4d9ab8016e978fa0c18e": {
     "model_module": "@jupyter-widgets/controls",
     "model_module_version": "1.5.0",
     "model_name": "HTMLModel",
     "state": {
      "_dom_classes": [],
      "_model_module": "@jupyter-widgets/controls",
      "_model_module_version": "1.5.0",
      "_model_name": "HTMLModel",
      "_view_count": null,
      "_view_module": "@jupyter-widgets/controls",
      "_view_module_version": "1.5.0",
      "_view_name": "HTMLView",
      "description": "",
      "description_tooltip": null,
      "layout": "IPY_MODEL_1859aef2e2184dfca6b64a83ddf9f7d6",
      "placeholder": "​",
      "style": "IPY_MODEL_b8109b9d57024a65821ede608044fd2d",
      "value": "100%"
     }
    },
    "d57c38b6c3c246dfb009642c0a95643d": {
     "model_module": "@jupyter-widgets/base",
     "model_module_version": "1.2.0",
     "model_name": "LayoutModel",
     "state": {
      "_model_module": "@jupyter-widgets/base",
      "_model_module_version": "1.2.0",
      "_model_name": "LayoutModel",
      "_view_count": null,
      "_view_module": "@jupyter-widgets/base",
      "_view_module_version": "1.2.0",
      "_view_name": "LayoutView",
      "align_content": null,
      "align_items": null,
      "align_self": null,
      "border": null,
      "bottom": null,
      "display": null,
      "flex": null,
      "flex_flow": null,
      "grid_area": null,
      "grid_auto_columns": null,
      "grid_auto_flow": null,
      "grid_auto_rows": null,
      "grid_column": null,
      "grid_gap": null,
      "grid_row": null,
      "grid_template_areas": null,
      "grid_template_columns": null,
      "grid_template_rows": null,
      "height": null,
      "justify_content": null,
      "justify_items": null,
      "left": null,
      "margin": null,
      "max_height": null,
      "max_width": null,
      "min_height": null,
      "min_width": null,
      "object_fit": null,
      "object_position": null,
      "order": null,
      "overflow": null,
      "overflow_x": null,
      "overflow_y": null,
      "padding": null,
      "right": null,
      "top": null,
      "visibility": null,
      "width": null
     }
    },
    "d7eee2ea842846148dbd9ba19224d753": {
     "model_module": "@jupyter-widgets/base",
     "model_module_version": "1.2.0",
     "model_name": "LayoutModel",
     "state": {
      "_model_module": "@jupyter-widgets/base",
      "_model_module_version": "1.2.0",
      "_model_name": "LayoutModel",
      "_view_count": null,
      "_view_module": "@jupyter-widgets/base",
      "_view_module_version": "1.2.0",
      "_view_name": "LayoutView",
      "align_content": null,
      "align_items": null,
      "align_self": null,
      "border": null,
      "bottom": null,
      "display": null,
      "flex": null,
      "flex_flow": null,
      "grid_area": null,
      "grid_auto_columns": null,
      "grid_auto_flow": null,
      "grid_auto_rows": null,
      "grid_column": null,
      "grid_gap": null,
      "grid_row": null,
      "grid_template_areas": null,
      "grid_template_columns": null,
      "grid_template_rows": null,
      "height": null,
      "justify_content": null,
      "justify_items": null,
      "left": null,
      "margin": null,
      "max_height": null,
      "max_width": null,
      "min_height": null,
      "min_width": null,
      "object_fit": null,
      "object_position": null,
      "order": null,
      "overflow": null,
      "overflow_x": null,
      "overflow_y": null,
      "padding": null,
      "right": null,
      "top": null,
      "visibility": null,
      "width": null
     }
    },
    "dc2d2793806d4eb688aaf67eb51e32ae": {
     "model_module": "@jupyter-widgets/controls",
     "model_module_version": "1.5.0",
     "model_name": "HBoxModel",
     "state": {
      "_dom_classes": [],
      "_model_module": "@jupyter-widgets/controls",
      "_model_module_version": "1.5.0",
      "_model_name": "HBoxModel",
      "_view_count": null,
      "_view_module": "@jupyter-widgets/controls",
      "_view_module_version": "1.5.0",
      "_view_name": "HBoxView",
      "box_style": "",
      "children": [
       "IPY_MODEL_767f4445cbf44881b1064db268bf0a48",
       "IPY_MODEL_547a13ac57804c32b15d776ad158adcd",
       "IPY_MODEL_26700c2da7ca45bb877639c662760ad8"
      ],
      "layout": "IPY_MODEL_e0a89d4509cd40f99e22e51f14517f35"
     }
    },
    "dcca41fb984f4f6ea02d0598c83280b1": {
     "model_module": "@jupyter-widgets/base",
     "model_module_version": "1.2.0",
     "model_name": "LayoutModel",
     "state": {
      "_model_module": "@jupyter-widgets/base",
      "_model_module_version": "1.2.0",
      "_model_name": "LayoutModel",
      "_view_count": null,
      "_view_module": "@jupyter-widgets/base",
      "_view_module_version": "1.2.0",
      "_view_name": "LayoutView",
      "align_content": null,
      "align_items": null,
      "align_self": null,
      "border": null,
      "bottom": null,
      "display": null,
      "flex": null,
      "flex_flow": null,
      "grid_area": null,
      "grid_auto_columns": null,
      "grid_auto_flow": null,
      "grid_auto_rows": null,
      "grid_column": null,
      "grid_gap": null,
      "grid_row": null,
      "grid_template_areas": null,
      "grid_template_columns": null,
      "grid_template_rows": null,
      "height": null,
      "justify_content": null,
      "justify_items": null,
      "left": null,
      "margin": null,
      "max_height": null,
      "max_width": null,
      "min_height": null,
      "min_width": null,
      "object_fit": null,
      "object_position": null,
      "order": null,
      "overflow": null,
      "overflow_x": null,
      "overflow_y": null,
      "padding": null,
      "right": null,
      "top": null,
      "visibility": null,
      "width": null
     }
    },
    "de80250efbe84c87bbb14bba31ef0b18": {
     "model_module": "@jupyter-widgets/base",
     "model_module_version": "1.2.0",
     "model_name": "LayoutModel",
     "state": {
      "_model_module": "@jupyter-widgets/base",
      "_model_module_version": "1.2.0",
      "_model_name": "LayoutModel",
      "_view_count": null,
      "_view_module": "@jupyter-widgets/base",
      "_view_module_version": "1.2.0",
      "_view_name": "LayoutView",
      "align_content": null,
      "align_items": null,
      "align_self": null,
      "border": null,
      "bottom": null,
      "display": null,
      "flex": null,
      "flex_flow": null,
      "grid_area": null,
      "grid_auto_columns": null,
      "grid_auto_flow": null,
      "grid_auto_rows": null,
      "grid_column": null,
      "grid_gap": null,
      "grid_row": null,
      "grid_template_areas": null,
      "grid_template_columns": null,
      "grid_template_rows": null,
      "height": null,
      "justify_content": null,
      "justify_items": null,
      "left": null,
      "margin": null,
      "max_height": null,
      "max_width": null,
      "min_height": null,
      "min_width": null,
      "object_fit": null,
      "object_position": null,
      "order": null,
      "overflow": null,
      "overflow_x": null,
      "overflow_y": null,
      "padding": null,
      "right": null,
      "top": null,
      "visibility": null,
      "width": null
     }
    },
    "df304e2c04214f43b90511064f0207d2": {
     "model_module": "@jupyter-widgets/base",
     "model_module_version": "1.2.0",
     "model_name": "LayoutModel",
     "state": {
      "_model_module": "@jupyter-widgets/base",
      "_model_module_version": "1.2.0",
      "_model_name": "LayoutModel",
      "_view_count": null,
      "_view_module": "@jupyter-widgets/base",
      "_view_module_version": "1.2.0",
      "_view_name": "LayoutView",
      "align_content": null,
      "align_items": null,
      "align_self": null,
      "border": null,
      "bottom": null,
      "display": null,
      "flex": null,
      "flex_flow": null,
      "grid_area": null,
      "grid_auto_columns": null,
      "grid_auto_flow": null,
      "grid_auto_rows": null,
      "grid_column": null,
      "grid_gap": null,
      "grid_row": null,
      "grid_template_areas": null,
      "grid_template_columns": null,
      "grid_template_rows": null,
      "height": null,
      "justify_content": null,
      "justify_items": null,
      "left": null,
      "margin": null,
      "max_height": null,
      "max_width": null,
      "min_height": null,
      "min_width": null,
      "object_fit": null,
      "object_position": null,
      "order": null,
      "overflow": null,
      "overflow_x": null,
      "overflow_y": null,
      "padding": null,
      "right": null,
      "top": null,
      "visibility": null,
      "width": null
     }
    },
    "dfa1affb6c954a98adc55ce99923bd11": {
     "model_module": "@jupyter-widgets/base",
     "model_module_version": "1.2.0",
     "model_name": "LayoutModel",
     "state": {
      "_model_module": "@jupyter-widgets/base",
      "_model_module_version": "1.2.0",
      "_model_name": "LayoutModel",
      "_view_count": null,
      "_view_module": "@jupyter-widgets/base",
      "_view_module_version": "1.2.0",
      "_view_name": "LayoutView",
      "align_content": null,
      "align_items": null,
      "align_self": null,
      "border": null,
      "bottom": null,
      "display": null,
      "flex": null,
      "flex_flow": null,
      "grid_area": null,
      "grid_auto_columns": null,
      "grid_auto_flow": null,
      "grid_auto_rows": null,
      "grid_column": null,
      "grid_gap": null,
      "grid_row": null,
      "grid_template_areas": null,
      "grid_template_columns": null,
      "grid_template_rows": null,
      "height": null,
      "justify_content": null,
      "justify_items": null,
      "left": null,
      "margin": null,
      "max_height": null,
      "max_width": null,
      "min_height": null,
      "min_width": null,
      "object_fit": null,
      "object_position": null,
      "order": null,
      "overflow": null,
      "overflow_x": null,
      "overflow_y": null,
      "padding": null,
      "right": null,
      "top": null,
      "visibility": null,
      "width": null
     }
    },
    "e01a8f2cd7404009b21e9d05bb399d2b": {
     "model_module": "@jupyter-widgets/controls",
     "model_module_version": "1.5.0",
     "model_name": "DescriptionStyleModel",
     "state": {
      "_model_module": "@jupyter-widgets/controls",
      "_model_module_version": "1.5.0",
      "_model_name": "DescriptionStyleModel",
      "_view_count": null,
      "_view_module": "@jupyter-widgets/base",
      "_view_module_version": "1.2.0",
      "_view_name": "StyleView",
      "description_width": ""
     }
    },
    "e0a89d4509cd40f99e22e51f14517f35": {
     "model_module": "@jupyter-widgets/base",
     "model_module_version": "1.2.0",
     "model_name": "LayoutModel",
     "state": {
      "_model_module": "@jupyter-widgets/base",
      "_model_module_version": "1.2.0",
      "_model_name": "LayoutModel",
      "_view_count": null,
      "_view_module": "@jupyter-widgets/base",
      "_view_module_version": "1.2.0",
      "_view_name": "LayoutView",
      "align_content": null,
      "align_items": null,
      "align_self": null,
      "border": null,
      "bottom": null,
      "display": null,
      "flex": null,
      "flex_flow": null,
      "grid_area": null,
      "grid_auto_columns": null,
      "grid_auto_flow": null,
      "grid_auto_rows": null,
      "grid_column": null,
      "grid_gap": null,
      "grid_row": null,
      "grid_template_areas": null,
      "grid_template_columns": null,
      "grid_template_rows": null,
      "height": null,
      "justify_content": null,
      "justify_items": null,
      "left": null,
      "margin": null,
      "max_height": null,
      "max_width": null,
      "min_height": null,
      "min_width": null,
      "object_fit": null,
      "object_position": null,
      "order": null,
      "overflow": null,
      "overflow_x": null,
      "overflow_y": null,
      "padding": null,
      "right": null,
      "top": null,
      "visibility": null,
      "width": null
     }
    },
    "e1ab5ec364834c299e90dc847a22d7af": {
     "model_module": "@jupyter-widgets/controls",
     "model_module_version": "1.5.0",
     "model_name": "ProgressStyleModel",
     "state": {
      "_model_module": "@jupyter-widgets/controls",
      "_model_module_version": "1.5.0",
      "_model_name": "ProgressStyleModel",
      "_view_count": null,
      "_view_module": "@jupyter-widgets/base",
      "_view_module_version": "1.2.0",
      "_view_name": "StyleView",
      "bar_color": null,
      "description_width": ""
     }
    },
    "e661365a28f84260aad2db2076cbaf9f": {
     "model_module": "@jupyter-widgets/base",
     "model_module_version": "1.2.0",
     "model_name": "LayoutModel",
     "state": {
      "_model_module": "@jupyter-widgets/base",
      "_model_module_version": "1.2.0",
      "_model_name": "LayoutModel",
      "_view_count": null,
      "_view_module": "@jupyter-widgets/base",
      "_view_module_version": "1.2.0",
      "_view_name": "LayoutView",
      "align_content": null,
      "align_items": null,
      "align_self": null,
      "border": null,
      "bottom": null,
      "display": null,
      "flex": null,
      "flex_flow": null,
      "grid_area": null,
      "grid_auto_columns": null,
      "grid_auto_flow": null,
      "grid_auto_rows": null,
      "grid_column": null,
      "grid_gap": null,
      "grid_row": null,
      "grid_template_areas": null,
      "grid_template_columns": null,
      "grid_template_rows": null,
      "height": null,
      "justify_content": null,
      "justify_items": null,
      "left": null,
      "margin": null,
      "max_height": null,
      "max_width": null,
      "min_height": null,
      "min_width": null,
      "object_fit": null,
      "object_position": null,
      "order": null,
      "overflow": null,
      "overflow_x": null,
      "overflow_y": null,
      "padding": null,
      "right": null,
      "top": null,
      "visibility": null,
      "width": null
     }
    },
    "e80646756e364638aa7018c741ab1664": {
     "model_module": "@jupyter-widgets/controls",
     "model_module_version": "1.5.0",
     "model_name": "DescriptionStyleModel",
     "state": {
      "_model_module": "@jupyter-widgets/controls",
      "_model_module_version": "1.5.0",
      "_model_name": "DescriptionStyleModel",
      "_view_count": null,
      "_view_module": "@jupyter-widgets/base",
      "_view_module_version": "1.2.0",
      "_view_name": "StyleView",
      "description_width": ""
     }
    },
    "e8a6f12fa0e04c50a29b1f166b296c30": {
     "model_module": "@jupyter-widgets/controls",
     "model_module_version": "1.5.0",
     "model_name": "FloatProgressModel",
     "state": {
      "_dom_classes": [],
      "_model_module": "@jupyter-widgets/controls",
      "_model_module_version": "1.5.0",
      "_model_name": "FloatProgressModel",
      "_view_count": null,
      "_view_module": "@jupyter-widgets/controls",
      "_view_module_version": "1.5.0",
      "_view_name": "ProgressView",
      "bar_style": "success",
      "description": "",
      "description_tooltip": null,
      "layout": "IPY_MODEL_29cfc300ab6a48e99fdffbcc2f25a145",
      "max": 313,
      "min": 0,
      "orientation": "horizontal",
      "style": "IPY_MODEL_e1ab5ec364834c299e90dc847a22d7af",
      "value": 313
     }
    },
    "e96a4b0d32c04ad2be4a4015d567e7e3": {
     "model_module": "@jupyter-widgets/controls",
     "model_module_version": "1.5.0",
     "model_name": "ProgressStyleModel",
     "state": {
      "_model_module": "@jupyter-widgets/controls",
      "_model_module_version": "1.5.0",
      "_model_name": "ProgressStyleModel",
      "_view_count": null,
      "_view_module": "@jupyter-widgets/base",
      "_view_module_version": "1.2.0",
      "_view_name": "StyleView",
      "bar_color": null,
      "description_width": ""
     }
    },
    "f2aca42744854c47920cd371b11cdb24": {
     "model_module": "@jupyter-widgets/base",
     "model_module_version": "1.2.0",
     "model_name": "LayoutModel",
     "state": {
      "_model_module": "@jupyter-widgets/base",
      "_model_module_version": "1.2.0",
      "_model_name": "LayoutModel",
      "_view_count": null,
      "_view_module": "@jupyter-widgets/base",
      "_view_module_version": "1.2.0",
      "_view_name": "LayoutView",
      "align_content": null,
      "align_items": null,
      "align_self": null,
      "border": null,
      "bottom": null,
      "display": null,
      "flex": null,
      "flex_flow": null,
      "grid_area": null,
      "grid_auto_columns": null,
      "grid_auto_flow": null,
      "grid_auto_rows": null,
      "grid_column": null,
      "grid_gap": null,
      "grid_row": null,
      "grid_template_areas": null,
      "grid_template_columns": null,
      "grid_template_rows": null,
      "height": null,
      "justify_content": null,
      "justify_items": null,
      "left": null,
      "margin": null,
      "max_height": null,
      "max_width": null,
      "min_height": null,
      "min_width": null,
      "object_fit": null,
      "object_position": null,
      "order": null,
      "overflow": null,
      "overflow_x": null,
      "overflow_y": null,
      "padding": null,
      "right": null,
      "top": null,
      "visibility": null,
      "width": null
     }
    },
    "f3bdcc1a90e74467bf3d69974809d122": {
     "model_module": "@jupyter-widgets/base",
     "model_module_version": "1.2.0",
     "model_name": "LayoutModel",
     "state": {
      "_model_module": "@jupyter-widgets/base",
      "_model_module_version": "1.2.0",
      "_model_name": "LayoutModel",
      "_view_count": null,
      "_view_module": "@jupyter-widgets/base",
      "_view_module_version": "1.2.0",
      "_view_name": "LayoutView",
      "align_content": null,
      "align_items": null,
      "align_self": null,
      "border": null,
      "bottom": null,
      "display": null,
      "flex": null,
      "flex_flow": null,
      "grid_area": null,
      "grid_auto_columns": null,
      "grid_auto_flow": null,
      "grid_auto_rows": null,
      "grid_column": null,
      "grid_gap": null,
      "grid_row": null,
      "grid_template_areas": null,
      "grid_template_columns": null,
      "grid_template_rows": null,
      "height": null,
      "justify_content": null,
      "justify_items": null,
      "left": null,
      "margin": null,
      "max_height": null,
      "max_width": null,
      "min_height": null,
      "min_width": null,
      "object_fit": null,
      "object_position": null,
      "order": null,
      "overflow": null,
      "overflow_x": null,
      "overflow_y": null,
      "padding": null,
      "right": null,
      "top": null,
      "visibility": null,
      "width": null
     }
    },
    "f810efee20dd4ba6b296f841097854eb": {
     "model_module": "@jupyter-widgets/controls",
     "model_module_version": "1.5.0",
     "model_name": "DescriptionStyleModel",
     "state": {
      "_model_module": "@jupyter-widgets/controls",
      "_model_module_version": "1.5.0",
      "_model_name": "DescriptionStyleModel",
      "_view_count": null,
      "_view_module": "@jupyter-widgets/base",
      "_view_module_version": "1.2.0",
      "_view_name": "StyleView",
      "description_width": ""
     }
    },
    "ff62083a090a459e82d4b40b8886cf04": {
     "model_module": "@jupyter-widgets/controls",
     "model_module_version": "1.5.0",
     "model_name": "DescriptionStyleModel",
     "state": {
      "_model_module": "@jupyter-widgets/controls",
      "_model_module_version": "1.5.0",
      "_model_name": "DescriptionStyleModel",
      "_view_count": null,
      "_view_module": "@jupyter-widgets/base",
      "_view_module_version": "1.2.0",
      "_view_name": "StyleView",
      "description_width": ""
     }
    }
   }
  }
 },
 "nbformat": 4,
 "nbformat_minor": 1
}
